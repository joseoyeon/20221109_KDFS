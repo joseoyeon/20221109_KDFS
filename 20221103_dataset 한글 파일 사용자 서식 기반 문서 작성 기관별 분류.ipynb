{
 "cells": [
  {
   "cell_type": "markdown",
   "metadata": {},
   "source": [
    "## 필요한 라이브러리 Import"
   ]
  },
  {
   "cell_type": "code",
   "execution_count": 1,
   "metadata": {},
   "outputs": [],
   "source": [
    "import pandas as pd \n",
    "import numpy as np; np.random.seed(42)\n",
    "import matplotlib.pyplot as plt\n",
    "import seaborn as sns\n",
    "import numpy as np\n",
    "from sklearn.decomposition import PCA\n",
    "from sklearn.preprocessing import StandardScaler\n",
    "import openpyxl\n",
    "\n",
    "from sklearn.model_selection import train_test_split\n",
    "from sklearn.ensemble import RandomForestClassifier, AdaBoostClassifier, GradientBoostingClassifier, ExtraTreesClassifier, VotingClassifier\n",
    "from sklearn.discriminant_analysis import LinearDiscriminantAnalysis\n",
    "from sklearn.linear_model import LogisticRegression\n",
    "from sklearn.neighbors import KNeighborsClassifier\n",
    "from sklearn.tree import DecisionTreeClassifier\n",
    "from sklearn.neural_network import MLPClassifier\n",
    "from sklearn.svm import SVC\n",
    "from sklearn.naive_bayes import BernoulliNB \n",
    "from sklearn.model_selection import GridSearchCV, cross_val_score, StratifiedKFold, learning_curve\n",
    "from sklearn.metrics import accuracy_score, confusion_matrix, classification_report\n",
    "from sklearn.metrics import make_scorer, accuracy_score, precision_score, recall_score, f1_score\n"
   ]
  },
  {
   "cell_type": "markdown",
   "metadata": {},
   "source": [
    "# 데이터 셋 로드"
   ]
  },
  {
   "cell_type": "code",
   "execution_count": 2,
   "metadata": {},
   "outputs": [
    {
     "data": {
      "text/plain": [
       "categories                              float64\n",
       "sub_categories                          float64\n",
       "IdMappings-borderfills                  float64\n",
       "IdMappings-charshapes                   float64\n",
       "IdMappings-cn-fonts                     float64\n",
       "IdMappings-en-fonts                     float64\n",
       "IdMappings-jp-fonts                     float64\n",
       "IdMappings-ko-fonts                     float64\n",
       "IdMappings-memoshapes                   float64\n",
       "IdMappings-numberings                   float64\n",
       "IdMappings-other-fonts                  float64\n",
       "IdMappings-parashapes                   float64\n",
       "IdMappings-styles                       float64\n",
       "IdMappings-symbol-fonts                 float64\n",
       "IdMappings-tabdefs                      float64\n",
       "IdMappings-user-fonts                   float64\n",
       "Style-local-name                        float64\n",
       "PageDef-attr                            float64\n",
       "PageDef-bookbinding                     float64\n",
       "PageDef-bookbinding-offset              float64\n",
       "PageDef-bottom-offset                   float64\n",
       "PageDef-footer-offset                   float64\n",
       "PageDef-header-offset                   float64\n",
       "PageDef-height                          float64\n",
       "PageDef-left-offset                     float64\n",
       "PageDef-orientation                     float64\n",
       "PageDef-right-offset                    float64\n",
       "PageDef-top-offset                      float64\n",
       "PageDef-width                           float64\n",
       "DocumentProperties-endnote-startnum     float64\n",
       "DocumentProperties-footnote-startnum    float64\n",
       "DocumentProperties-math-startnum        float64\n",
       "DocumentProperties-page-startnum        float64\n",
       "DocumentProperties-picture-startnum     float64\n",
       "DocumentProperties-table-startnum       float64\n",
       "FaceName-enname                         float64\n",
       "FaceName-koname                         float64\n",
       "PageBorderFill-borderfill-id            float64\n",
       "PageBorderFill-fill                     float64\n",
       "PageBorderFill-flags                    float64\n",
       "PageBorderFill-include-footer           float64\n",
       "PageBorderFill-include-header           float64\n",
       "PageBorderFill-margin-bottom            float64\n",
       "PageBorderFill-margin-left              float64\n",
       "PageBorderFill-margin-right             float64\n",
       "PageBorderFill-margin-top               float64\n",
       "PageBorderFill-relative-to              float64\n",
       "Numbering-align                         float64\n",
       "Numbering-auto-indent                   float64\n",
       "Numbering-auto-width                    float64\n",
       "Numbering-charshape-id                  float64\n",
       "Numbering-flags                         float64\n",
       "Numbering-numbering-format              float64\n",
       "Numbering-space                         float64\n",
       "Numbering-space-type                    float64\n",
       "Numbering-starting-number               float64\n",
       "Numbering-width-correction              float64\n",
       "dtype: object"
      ]
     },
     "execution_count": 2,
     "metadata": {},
     "output_type": "execute_result"
    }
   ],
   "source": [
    "sumDataFrame = pd.read_csv(\"20221104_전처리후.csv\")#, encoding='cp949')\n",
    "select_data = sumDataFrame[sumDataFrame.columns[1:]]\n",
    "select_data = select_data[['categories', 'sub_categories',  'IdMappings-borderfills', 'IdMappings-charshapes',  'IdMappings-cn-fonts', 'IdMappings-en-fonts', 'IdMappings-jp-fonts', 'IdMappings-ko-fonts', 'IdMappings-memoshapes', 'IdMappings-numberings', 'IdMappings-other-fonts', 'IdMappings-parashapes', 'IdMappings-styles', 'IdMappings-symbol-fonts', 'IdMappings-tabdefs', 'IdMappings-user-fonts', 'Style-local-name', 'PageDef-attr', 'PageDef-bookbinding', 'PageDef-bookbinding-offset',  'PageDef-bottom-offset', 'PageDef-footer-offset', 'PageDef-header-offset', 'PageDef-height', 'PageDef-left-offset', 'PageDef-orientation', 'PageDef-right-offset', 'PageDef-top-offset', 'PageDef-width', 'DocumentProperties-endnote-startnum', 'DocumentProperties-footnote-startnum',  'DocumentProperties-math-startnum', 'DocumentProperties-page-startnum', 'DocumentProperties-picture-startnum', 'DocumentProperties-table-startnum', 'FaceName-enname', 'FaceName-koname', 'PageBorderFill-borderfill-id', 'PageBorderFill-fill', 'PageBorderFill-flags', 'PageBorderFill-include-footer', 'PageBorderFill-include-header', 'PageBorderFill-margin-bottom', 'PageBorderFill-margin-left', 'PageBorderFill-margin-right', 'PageBorderFill-margin-top', 'PageBorderFill-relative-to', 'Numbering-align', 'Numbering-auto-indent', 'Numbering-auto-width', 'Numbering-charshape-id', 'Numbering-flags',  'Numbering-numbering-format', 'Numbering-space', 'Numbering-space-type', 'Numbering-starting-number', 'Numbering-width-correction']]\n",
    "select_data.dtypes"
   ]
  },
  {
   "cell_type": "markdown",
   "metadata": {},
   "source": [
    "## 데이터 셋 확인"
   ]
  },
  {
   "cell_type": "code",
   "execution_count": 3,
   "metadata": {},
   "outputs": [
    {
     "data": {
      "text/html": [
       "<div>\n",
       "<style scoped>\n",
       "    .dataframe tbody tr th:only-of-type {\n",
       "        vertical-align: middle;\n",
       "    }\n",
       "\n",
       "    .dataframe tbody tr th {\n",
       "        vertical-align: top;\n",
       "    }\n",
       "\n",
       "    .dataframe thead th {\n",
       "        text-align: right;\n",
       "    }\n",
       "</style>\n",
       "<table border=\"1\" class=\"dataframe\">\n",
       "  <thead>\n",
       "    <tr style=\"text-align: right;\">\n",
       "      <th></th>\n",
       "      <th>categories</th>\n",
       "      <th>sub_categories</th>\n",
       "      <th>IdMappings-borderfills</th>\n",
       "      <th>IdMappings-charshapes</th>\n",
       "      <th>IdMappings-cn-fonts</th>\n",
       "      <th>IdMappings-en-fonts</th>\n",
       "      <th>IdMappings-jp-fonts</th>\n",
       "      <th>IdMappings-ko-fonts</th>\n",
       "      <th>IdMappings-memoshapes</th>\n",
       "      <th>IdMappings-numberings</th>\n",
       "      <th>...</th>\n",
       "      <th>Numbering-align</th>\n",
       "      <th>Numbering-auto-indent</th>\n",
       "      <th>Numbering-auto-width</th>\n",
       "      <th>Numbering-charshape-id</th>\n",
       "      <th>Numbering-flags</th>\n",
       "      <th>Numbering-numbering-format</th>\n",
       "      <th>Numbering-space</th>\n",
       "      <th>Numbering-space-type</th>\n",
       "      <th>Numbering-starting-number</th>\n",
       "      <th>Numbering-width-correction</th>\n",
       "    </tr>\n",
       "  </thead>\n",
       "  <tbody>\n",
       "    <tr>\n",
       "      <th>0</th>\n",
       "      <td>0.0</td>\n",
       "      <td>-1.0</td>\n",
       "      <td>7.0</td>\n",
       "      <td>31.0</td>\n",
       "      <td>12.0</td>\n",
       "      <td>14.0</td>\n",
       "      <td>12.0</td>\n",
       "      <td>11.0</td>\n",
       "      <td>0.0</td>\n",
       "      <td>0.0</td>\n",
       "      <td>...</td>\n",
       "      <td>-1.0</td>\n",
       "      <td>-2.0</td>\n",
       "      <td>-2.0</td>\n",
       "      <td>-2.0</td>\n",
       "      <td>-1.0</td>\n",
       "      <td>-1.0</td>\n",
       "      <td>-2.0</td>\n",
       "      <td>-1.0</td>\n",
       "      <td>-2.0</td>\n",
       "      <td>-2.0</td>\n",
       "    </tr>\n",
       "    <tr>\n",
       "      <th>1</th>\n",
       "      <td>0.0</td>\n",
       "      <td>-1.0</td>\n",
       "      <td>7.0</td>\n",
       "      <td>42.0</td>\n",
       "      <td>12.0</td>\n",
       "      <td>14.0</td>\n",
       "      <td>12.0</td>\n",
       "      <td>11.0</td>\n",
       "      <td>0.0</td>\n",
       "      <td>0.0</td>\n",
       "      <td>...</td>\n",
       "      <td>-1.0</td>\n",
       "      <td>-2.0</td>\n",
       "      <td>-2.0</td>\n",
       "      <td>-2.0</td>\n",
       "      <td>-1.0</td>\n",
       "      <td>-1.0</td>\n",
       "      <td>-2.0</td>\n",
       "      <td>-1.0</td>\n",
       "      <td>-2.0</td>\n",
       "      <td>-2.0</td>\n",
       "    </tr>\n",
       "    <tr>\n",
       "      <th>2</th>\n",
       "      <td>0.0</td>\n",
       "      <td>-1.0</td>\n",
       "      <td>7.0</td>\n",
       "      <td>29.0</td>\n",
       "      <td>12.0</td>\n",
       "      <td>14.0</td>\n",
       "      <td>12.0</td>\n",
       "      <td>11.0</td>\n",
       "      <td>0.0</td>\n",
       "      <td>0.0</td>\n",
       "      <td>...</td>\n",
       "      <td>-1.0</td>\n",
       "      <td>-2.0</td>\n",
       "      <td>-2.0</td>\n",
       "      <td>-2.0</td>\n",
       "      <td>-1.0</td>\n",
       "      <td>-1.0</td>\n",
       "      <td>-2.0</td>\n",
       "      <td>-1.0</td>\n",
       "      <td>-2.0</td>\n",
       "      <td>-2.0</td>\n",
       "    </tr>\n",
       "    <tr>\n",
       "      <th>3</th>\n",
       "      <td>0.0</td>\n",
       "      <td>-1.0</td>\n",
       "      <td>7.0</td>\n",
       "      <td>26.0</td>\n",
       "      <td>13.0</td>\n",
       "      <td>14.0</td>\n",
       "      <td>13.0</td>\n",
       "      <td>11.0</td>\n",
       "      <td>0.0</td>\n",
       "      <td>0.0</td>\n",
       "      <td>...</td>\n",
       "      <td>-1.0</td>\n",
       "      <td>-2.0</td>\n",
       "      <td>-2.0</td>\n",
       "      <td>-2.0</td>\n",
       "      <td>-1.0</td>\n",
       "      <td>-1.0</td>\n",
       "      <td>-2.0</td>\n",
       "      <td>-1.0</td>\n",
       "      <td>-2.0</td>\n",
       "      <td>-2.0</td>\n",
       "    </tr>\n",
       "    <tr>\n",
       "      <th>4</th>\n",
       "      <td>0.0</td>\n",
       "      <td>-1.0</td>\n",
       "      <td>7.0</td>\n",
       "      <td>25.0</td>\n",
       "      <td>12.0</td>\n",
       "      <td>14.0</td>\n",
       "      <td>12.0</td>\n",
       "      <td>11.0</td>\n",
       "      <td>0.0</td>\n",
       "      <td>0.0</td>\n",
       "      <td>...</td>\n",
       "      <td>-1.0</td>\n",
       "      <td>-2.0</td>\n",
       "      <td>-2.0</td>\n",
       "      <td>-2.0</td>\n",
       "      <td>-1.0</td>\n",
       "      <td>-1.0</td>\n",
       "      <td>-2.0</td>\n",
       "      <td>-1.0</td>\n",
       "      <td>-2.0</td>\n",
       "      <td>-2.0</td>\n",
       "    </tr>\n",
       "    <tr>\n",
       "      <th>...</th>\n",
       "      <td>...</td>\n",
       "      <td>...</td>\n",
       "      <td>...</td>\n",
       "      <td>...</td>\n",
       "      <td>...</td>\n",
       "      <td>...</td>\n",
       "      <td>...</td>\n",
       "      <td>...</td>\n",
       "      <td>...</td>\n",
       "      <td>...</td>\n",
       "      <td>...</td>\n",
       "      <td>...</td>\n",
       "      <td>...</td>\n",
       "      <td>...</td>\n",
       "      <td>...</td>\n",
       "      <td>...</td>\n",
       "      <td>...</td>\n",
       "      <td>...</td>\n",
       "      <td>...</td>\n",
       "      <td>...</td>\n",
       "      <td>...</td>\n",
       "    </tr>\n",
       "    <tr>\n",
       "      <th>9067</th>\n",
       "      <td>9.0</td>\n",
       "      <td>40.0</td>\n",
       "      <td>34.0</td>\n",
       "      <td>123.0</td>\n",
       "      <td>11.0</td>\n",
       "      <td>14.0</td>\n",
       "      <td>11.0</td>\n",
       "      <td>12.0</td>\n",
       "      <td>0.0</td>\n",
       "      <td>1.0</td>\n",
       "      <td>...</td>\n",
       "      <td>0.0</td>\n",
       "      <td>1.0</td>\n",
       "      <td>0.0</td>\n",
       "      <td>-1.0</td>\n",
       "      <td>3.0</td>\n",
       "      <td>2.0</td>\n",
       "      <td>50.0</td>\n",
       "      <td>0.0</td>\n",
       "      <td>0.0</td>\n",
       "      <td>0.0</td>\n",
       "    </tr>\n",
       "    <tr>\n",
       "      <th>9068</th>\n",
       "      <td>9.0</td>\n",
       "      <td>40.0</td>\n",
       "      <td>25.0</td>\n",
       "      <td>59.0</td>\n",
       "      <td>10.0</td>\n",
       "      <td>12.0</td>\n",
       "      <td>10.0</td>\n",
       "      <td>11.0</td>\n",
       "      <td>0.0</td>\n",
       "      <td>1.0</td>\n",
       "      <td>...</td>\n",
       "      <td>0.0</td>\n",
       "      <td>1.0</td>\n",
       "      <td>0.0</td>\n",
       "      <td>-1.0</td>\n",
       "      <td>3.0</td>\n",
       "      <td>2.0</td>\n",
       "      <td>50.0</td>\n",
       "      <td>0.0</td>\n",
       "      <td>0.0</td>\n",
       "      <td>0.0</td>\n",
       "    </tr>\n",
       "    <tr>\n",
       "      <th>9069</th>\n",
       "      <td>9.0</td>\n",
       "      <td>40.0</td>\n",
       "      <td>24.0</td>\n",
       "      <td>78.0</td>\n",
       "      <td>16.0</td>\n",
       "      <td>18.0</td>\n",
       "      <td>16.0</td>\n",
       "      <td>17.0</td>\n",
       "      <td>0.0</td>\n",
       "      <td>1.0</td>\n",
       "      <td>...</td>\n",
       "      <td>0.0</td>\n",
       "      <td>1.0</td>\n",
       "      <td>0.0</td>\n",
       "      <td>-1.0</td>\n",
       "      <td>3.0</td>\n",
       "      <td>2.0</td>\n",
       "      <td>50.0</td>\n",
       "      <td>0.0</td>\n",
       "      <td>0.0</td>\n",
       "      <td>0.0</td>\n",
       "    </tr>\n",
       "    <tr>\n",
       "      <th>9070</th>\n",
       "      <td>9.0</td>\n",
       "      <td>40.0</td>\n",
       "      <td>21.0</td>\n",
       "      <td>82.0</td>\n",
       "      <td>12.0</td>\n",
       "      <td>14.0</td>\n",
       "      <td>12.0</td>\n",
       "      <td>13.0</td>\n",
       "      <td>0.0</td>\n",
       "      <td>1.0</td>\n",
       "      <td>...</td>\n",
       "      <td>0.0</td>\n",
       "      <td>1.0</td>\n",
       "      <td>0.0</td>\n",
       "      <td>-1.0</td>\n",
       "      <td>3.0</td>\n",
       "      <td>2.0</td>\n",
       "      <td>50.0</td>\n",
       "      <td>0.0</td>\n",
       "      <td>0.0</td>\n",
       "      <td>0.0</td>\n",
       "    </tr>\n",
       "    <tr>\n",
       "      <th>9071</th>\n",
       "      <td>9.0</td>\n",
       "      <td>40.0</td>\n",
       "      <td>30.0</td>\n",
       "      <td>114.0</td>\n",
       "      <td>10.0</td>\n",
       "      <td>14.0</td>\n",
       "      <td>10.0</td>\n",
       "      <td>12.0</td>\n",
       "      <td>0.0</td>\n",
       "      <td>1.0</td>\n",
       "      <td>...</td>\n",
       "      <td>0.0</td>\n",
       "      <td>1.0</td>\n",
       "      <td>0.0</td>\n",
       "      <td>-1.0</td>\n",
       "      <td>3.0</td>\n",
       "      <td>2.0</td>\n",
       "      <td>50.0</td>\n",
       "      <td>0.0</td>\n",
       "      <td>0.0</td>\n",
       "      <td>0.0</td>\n",
       "    </tr>\n",
       "  </tbody>\n",
       "</table>\n",
       "<p>9072 rows × 57 columns</p>\n",
       "</div>"
      ],
      "text/plain": [
       "      categories  sub_categories  IdMappings-borderfills  \\\n",
       "0            0.0            -1.0                     7.0   \n",
       "1            0.0            -1.0                     7.0   \n",
       "2            0.0            -1.0                     7.0   \n",
       "3            0.0            -1.0                     7.0   \n",
       "4            0.0            -1.0                     7.0   \n",
       "...          ...             ...                     ...   \n",
       "9067         9.0            40.0                    34.0   \n",
       "9068         9.0            40.0                    25.0   \n",
       "9069         9.0            40.0                    24.0   \n",
       "9070         9.0            40.0                    21.0   \n",
       "9071         9.0            40.0                    30.0   \n",
       "\n",
       "      IdMappings-charshapes  IdMappings-cn-fonts  IdMappings-en-fonts  \\\n",
       "0                      31.0                 12.0                 14.0   \n",
       "1                      42.0                 12.0                 14.0   \n",
       "2                      29.0                 12.0                 14.0   \n",
       "3                      26.0                 13.0                 14.0   \n",
       "4                      25.0                 12.0                 14.0   \n",
       "...                     ...                  ...                  ...   \n",
       "9067                  123.0                 11.0                 14.0   \n",
       "9068                   59.0                 10.0                 12.0   \n",
       "9069                   78.0                 16.0                 18.0   \n",
       "9070                   82.0                 12.0                 14.0   \n",
       "9071                  114.0                 10.0                 14.0   \n",
       "\n",
       "      IdMappings-jp-fonts  IdMappings-ko-fonts  IdMappings-memoshapes  \\\n",
       "0                    12.0                 11.0                    0.0   \n",
       "1                    12.0                 11.0                    0.0   \n",
       "2                    12.0                 11.0                    0.0   \n",
       "3                    13.0                 11.0                    0.0   \n",
       "4                    12.0                 11.0                    0.0   \n",
       "...                   ...                  ...                    ...   \n",
       "9067                 11.0                 12.0                    0.0   \n",
       "9068                 10.0                 11.0                    0.0   \n",
       "9069                 16.0                 17.0                    0.0   \n",
       "9070                 12.0                 13.0                    0.0   \n",
       "9071                 10.0                 12.0                    0.0   \n",
       "\n",
       "      IdMappings-numberings  ...  Numbering-align  Numbering-auto-indent  \\\n",
       "0                       0.0  ...             -1.0                   -2.0   \n",
       "1                       0.0  ...             -1.0                   -2.0   \n",
       "2                       0.0  ...             -1.0                   -2.0   \n",
       "3                       0.0  ...             -1.0                   -2.0   \n",
       "4                       0.0  ...             -1.0                   -2.0   \n",
       "...                     ...  ...              ...                    ...   \n",
       "9067                    1.0  ...              0.0                    1.0   \n",
       "9068                    1.0  ...              0.0                    1.0   \n",
       "9069                    1.0  ...              0.0                    1.0   \n",
       "9070                    1.0  ...              0.0                    1.0   \n",
       "9071                    1.0  ...              0.0                    1.0   \n",
       "\n",
       "      Numbering-auto-width  Numbering-charshape-id  Numbering-flags  \\\n",
       "0                     -2.0                    -2.0             -1.0   \n",
       "1                     -2.0                    -2.0             -1.0   \n",
       "2                     -2.0                    -2.0             -1.0   \n",
       "3                     -2.0                    -2.0             -1.0   \n",
       "4                     -2.0                    -2.0             -1.0   \n",
       "...                    ...                     ...              ...   \n",
       "9067                   0.0                    -1.0              3.0   \n",
       "9068                   0.0                    -1.0              3.0   \n",
       "9069                   0.0                    -1.0              3.0   \n",
       "9070                   0.0                    -1.0              3.0   \n",
       "9071                   0.0                    -1.0              3.0   \n",
       "\n",
       "      Numbering-numbering-format  Numbering-space  Numbering-space-type  \\\n",
       "0                           -1.0             -2.0                  -1.0   \n",
       "1                           -1.0             -2.0                  -1.0   \n",
       "2                           -1.0             -2.0                  -1.0   \n",
       "3                           -1.0             -2.0                  -1.0   \n",
       "4                           -1.0             -2.0                  -1.0   \n",
       "...                          ...              ...                   ...   \n",
       "9067                         2.0             50.0                   0.0   \n",
       "9068                         2.0             50.0                   0.0   \n",
       "9069                         2.0             50.0                   0.0   \n",
       "9070                         2.0             50.0                   0.0   \n",
       "9071                         2.0             50.0                   0.0   \n",
       "\n",
       "      Numbering-starting-number  Numbering-width-correction  \n",
       "0                          -2.0                        -2.0  \n",
       "1                          -2.0                        -2.0  \n",
       "2                          -2.0                        -2.0  \n",
       "3                          -2.0                        -2.0  \n",
       "4                          -2.0                        -2.0  \n",
       "...                         ...                         ...  \n",
       "9067                        0.0                         0.0  \n",
       "9068                        0.0                         0.0  \n",
       "9069                        0.0                         0.0  \n",
       "9070                        0.0                         0.0  \n",
       "9071                        0.0                         0.0  \n",
       "\n",
       "[9072 rows x 57 columns]"
      ]
     },
     "execution_count": 3,
     "metadata": {},
     "output_type": "execute_result"
    }
   ],
   "source": [
    "select_data.fillna(-1)\n",
    "select_data # 데이터 확인 "
   ]
  },
  {
   "cell_type": "code",
   "execution_count": 4,
   "metadata": {},
   "outputs": [
    {
     "name": "stdout",
     "output_type": "stream",
     "text": [
      "1.0    1716\n",
      "7.0    1282\n",
      "5.0    1117\n",
      "9.0    1113\n",
      "6.0    1024\n",
      "4.0    1016\n",
      "3.0    1005\n",
      "2.0     536\n",
      "8.0     192\n",
      "0.0      71\n",
      "Name: categories, dtype: int64\n"
     ]
    },
    {
     "name": "stderr",
     "output_type": "stream",
     "text": [
      "c:\\Users\\User\\AppData\\Local\\Programs\\Python\\Python37\\lib\\site-packages\\seaborn\\_decorators.py:43: FutureWarning: Pass the following variable as a keyword arg: x. From version 0.12, the only valid positional argument will be `data`, and passing other arguments without an explicit keyword will result in an error or misinterpretation.\n",
      "  FutureWarning\n"
     ]
    },
    {
     "data": {
      "image/png": "[encoded data removed]",
      "text/plain": [
       "<Figure size 432x288 with 1 Axes>"
      ]
     },
     "metadata": {
      "needs_background": "light"
     },
     "output_type": "display_data"
    }
   ],
   "source": [
    "ax = sns.countplot(select_data.categories,label=\"Count\")       # M = 212, B = 357\n",
    "print(select_data.categories.value_counts())"
   ]
  },
  {
   "cell_type": "markdown",
   "metadata": {},
   "source": [
    "## 데이터 셋 전체 분포 맞추기 "
   ]
  },
  {
   "cell_type": "markdown",
   "metadata": {},
   "source": [
    "* 고용노동부(A)\n",
    "* 국립생태원(B)\n",
    "* 금융위원회(C)\n",
    "* 기획재정부(D)\n",
    "* 산업통상자원부(E) \n",
    "* 외교부(F)\n",
    "* 행정안전부(G) "
   ]
  },
  {
   "cell_type": "code",
   "execution_count": 5,
   "metadata": {},
   "outputs": [
    {
     "name": "stdout",
     "output_type": "stream",
     "text": [
      "9.0    1000\n",
      "7.0    1000\n",
      "6.0    1000\n",
      "5.0    1000\n",
      "4.0    1000\n",
      "3.0    1000\n",
      "1.0    1000\n",
      "Name: categories, dtype: int64\n"
     ]
    },
    {
     "name": "stderr",
     "output_type": "stream",
     "text": [
      "c:\\Users\\User\\AppData\\Local\\Programs\\Python\\Python37\\lib\\site-packages\\seaborn\\_decorators.py:43: FutureWarning: Pass the following variable as a keyword arg: x. From version 0.12, the only valid positional argument will be `data`, and passing other arguments without an explicit keyword will result in an error or misinterpretation.\n",
      "  FutureWarning\n"
     ]
    },
    {
     "data": {
      "image/png": "[encoded data removed]",
      "text/plain": [
       "<Figure size 432x288 with 1 Axes>"
      ]
     },
     "metadata": {
      "needs_background": "light"
     },
     "output_type": "display_data"
    }
   ],
   "source": [
    "select_data1 = select_data[select_data['categories']==1][:1000]\n",
    "select_data2 = select_data[select_data['categories']==3][:1000]\n",
    "select_data3 = select_data[select_data['categories']==4][:1000]\n",
    "select_data4 = select_data[select_data['categories']==5][:1000]\n",
    "select_data5 = select_data[select_data['categories']==6][:1000]\n",
    "select_data6 = select_data[select_data['categories']==7][:1000]\n",
    "select_data7 = select_data[select_data['categories']==9][:1000]\n",
    "select_data =  pd.concat([select_data1,select_data2,select_data3,select_data4,select_data5,select_data6,select_data7], ignore_index=True)\n",
    "ax = sns.countplot(select_data.categories,label=\"Count\")       # M = 212, B = 357\n",
    "print(select_data.categories.value_counts())"
   ]
  },
  {
   "cell_type": "markdown",
   "metadata": {},
   "source": [
    "# Test, Train Set 나누기"
   ]
  },
  {
   "cell_type": "code",
   "execution_count": 6,
   "metadata": {},
   "outputs": [],
   "source": [
    "from sklearn.feature_selection import VarianceThreshold\n",
    "from sklearn.model_selection import train_test_split\n",
    "x_train, x_test, y_train, y_test = train_test_split(select_data, select_data['categories'], test_size = 0.3, random_state=1234)\n",
    "select_VT = VarianceThreshold(0.001)\n",
    "X_train_VT = select_VT.fit_transform(x_train)\n",
    "X_test_VT = select_VT.transform(x_test)"
   ]
  },
  {
   "cell_type": "markdown",
   "metadata": {},
   "source": [
    "### X_train set 확인"
   ]
  },
  {
   "cell_type": "code",
   "execution_count": 7,
   "metadata": {},
   "outputs": [
    {
     "name": "stdout",
     "output_type": "stream",
     "text": [
      "5.0    723\n",
      "6.0    714\n",
      "1.0    709\n",
      "7.0    699\n",
      "3.0    689\n",
      "9.0    689\n",
      "4.0    677\n",
      "Name: categories, dtype: int64\n"
     ]
    },
    {
     "name": "stderr",
     "output_type": "stream",
     "text": [
      "c:\\Users\\User\\AppData\\Local\\Programs\\Python\\Python37\\lib\\site-packages\\seaborn\\_decorators.py:43: FutureWarning: Pass the following variable as a keyword arg: x. From version 0.12, the only valid positional argument will be `data`, and passing other arguments without an explicit keyword will result in an error or misinterpretation.\n",
      "  FutureWarning\n"
     ]
    },
    {
     "data": {
      "image/png": "[encoded data removed]",
      "text/plain": [
       "<Figure size 432x288 with 1 Axes>"
      ]
     },
     "metadata": {
      "needs_background": "light"
     },
     "output_type": "display_data"
    }
   ],
   "source": [
    "ax = sns.countplot(x_train.categories,label=\"Count\")       \n",
    "print(x_train.categories.value_counts())"
   ]
  },
  {
   "cell_type": "markdown",
   "metadata": {},
   "source": [
    "### X_test set 확인"
   ]
  },
  {
   "cell_type": "code",
   "execution_count": 8,
   "metadata": {},
   "outputs": [
    {
     "name": "stdout",
     "output_type": "stream",
     "text": [
      "4.0    323\n",
      "3.0    311\n",
      "9.0    311\n",
      "7.0    301\n",
      "1.0    291\n",
      "6.0    286\n",
      "5.0    277\n",
      "Name: categories, dtype: int64\n"
     ]
    },
    {
     "name": "stderr",
     "output_type": "stream",
     "text": [
      "c:\\Users\\User\\AppData\\Local\\Programs\\Python\\Python37\\lib\\site-packages\\seaborn\\_decorators.py:43: FutureWarning: Pass the following variable as a keyword arg: x. From version 0.12, the only valid positional argument will be `data`, and passing other arguments without an explicit keyword will result in an error or misinterpretation.\n",
      "  FutureWarning\n"
     ]
    },
    {
     "data": {
      "image/png": "[encoded data removed]",
      "text/plain": [
       "<Figure size 432x288 with 1 Axes>"
      ]
     },
     "metadata": {
      "needs_background": "light"
     },
     "output_type": "display_data"
    }
   ],
   "source": [
    "ax = sns.countplot(x_test.categories,label=\"Count\")       \n",
    "print(x_test.categories.value_counts())"
   ]
  },
  {
   "cell_type": "markdown",
   "metadata": {},
   "source": [
    "# Feature "
   ]
  },
  {
   "cell_type": "code",
   "execution_count": 9,
   "metadata": {},
   "outputs": [],
   "source": [
    "select_all_col = ['IdMappings-borderfills',\n",
    "       'IdMappings-charshapes', 'IdMappings-cn-fonts', 'IdMappings-en-fonts',\n",
    "       'IdMappings-jp-fonts', 'IdMappings-ko-fonts', 'IdMappings-memoshapes',\n",
    "       'IdMappings-numberings', 'IdMappings-other-fonts',\n",
    "       'IdMappings-parashapes', 'IdMappings-styles', 'IdMappings-symbol-fonts',\n",
    "       'IdMappings-tabdefs', 'IdMappings-user-fonts', 'Style-local-name',\n",
    "       'PageDef-attr', 'PageDef-bookbinding', 'PageDef-bookbinding-offset',\n",
    "       'PageDef-bottom-offset', 'PageDef-footer-offset',\n",
    "       'PageDef-header-offset', 'PageDef-height', 'PageDef-left-offset',\n",
    "       'PageDef-orientation', 'PageDef-right-offset', 'PageDef-top-offset',\n",
    "       'PageDef-width', 'DocumentProperties-endnote-startnum',\n",
    "       'DocumentProperties-footnote-startnum',\n",
    "       'DocumentProperties-math-startnum', 'DocumentProperties-page-startnum',\n",
    "       'DocumentProperties-picture-startnum',\n",
    "       'DocumentProperties-table-startnum', 'FaceName-enname',\n",
    "       'FaceName-koname', 'PageBorderFill-borderfill-id',\n",
    "       'PageBorderFill-fill', 'PageBorderFill-flags',\n",
    "       'PageBorderFill-include-footer', 'PageBorderFill-include-header',\n",
    "       'PageBorderFill-margin-bottom', 'PageBorderFill-margin-left',\n",
    "       'PageBorderFill-margin-right', 'PageBorderFill-margin-top',\n",
    "       'PageBorderFill-relative-to', 'Numbering-align',\n",
    "       'Numbering-auto-indent', 'Numbering-auto-width',\n",
    "       'Numbering-charshape-id', 'Numbering-flags',\n",
    "       'Numbering-numbering-format', 'Numbering-space', 'Numbering-space-type',\n",
    "       'Numbering-starting-number', 'Numbering-width-correction']"
   ]
  },
  {
   "cell_type": "markdown",
   "metadata": {},
   "source": [
    "## Feature 순위"
   ]
  },
  {
   "cell_type": "code",
   "execution_count": 10,
   "metadata": {},
   "outputs": [
    {
     "name": "stdout",
     "output_type": "stream",
     "text": [
      "Feature ranking:\n",
      "1. categories (0.234699)\n",
      "2. sub_categories (0.147109)\n",
      "3. PageDef-left-offset (0.067260)\n",
      "4. PageDef-right-offset (0.065248)\n",
      "5. PageDef-top-offset (0.050636)\n",
      "6. PageBorderFill-flags (0.041776)\n",
      "7. PageDef-bottom-offset (0.033284)\n",
      "8. IdMappings-styles (0.027999)\n",
      "9. PageDef-header-offset (0.025982)\n",
      "10. PageBorderFill-borderfill-id (0.023551)\n",
      "11. FaceName-enname (0.021619)\n",
      "12. PageDef-footer-offset (0.018660)\n",
      "13. IdMappings-ko-fonts (0.017472)\n",
      "14. IdMappings-other-fonts (0.017184)\n",
      "15. IdMappings-borderfills (0.016560)\n",
      "16. FaceName-koname (0.016530)\n",
      "17. Numbering-auto-width (0.015865)\n",
      "18. Numbering-flags (0.015712)\n",
      "19. IdMappings-jp-fonts (0.014689)\n",
      "20. IdMappings-symbol-fonts (0.014683)\n",
      "21. Style-local-name (0.014103)\n",
      "22. IdMappings-parashapes (0.013932)\n",
      "23. IdMappings-user-fonts (0.012513)\n",
      "24. IdMappings-charshapes (0.011188)\n",
      "25. IdMappings-cn-fonts (0.010446)\n",
      "26. IdMappings-en-fonts (0.010041)\n",
      "27. IdMappings-tabdefs (0.009029)\n",
      "28. IdMappings-numberings (0.005118)\n",
      "29. Numbering-space (0.004718)\n",
      "30. Numbering-align (0.004465)\n",
      "31. Numbering-numbering-format (0.003819)\n",
      "32. Numbering-space-type (0.003250)\n",
      "33. Numbering-auto-indent (0.002903)\n",
      "34. Numbering-width-correction (0.002673)\n",
      "35. Numbering-charshape-id (0.002028)\n",
      "36. Numbering-starting-number (0.001471)\n",
      "37. IdMappings-memoshapes (0.001255)\n",
      "38. PageDef-height (0.000344)\n",
      "39. PageDef-attr (0.000095)\n",
      "40. PageDef-width (0.000038)\n",
      "41. PageDef-orientation (0.000032)\n",
      "42. PageDef-bookbinding (0.000021)\n",
      "43. PageDef-bookbinding-offset (0.000000)\n",
      "44. PageBorderFill-relative-to (0.000000)\n",
      "45. DocumentProperties-picture-startnum (0.000000)\n",
      "46. DocumentProperties-table-startnum (0.000000)\n",
      "47. PageBorderFill-margin-left (0.000000)\n",
      "48. PageBorderFill-margin-bottom (0.000000)\n",
      "49. PageBorderFill-include-header (0.000000)\n",
      "50. PageBorderFill-include-footer (0.000000)\n",
      "51. DocumentProperties-endnote-startnum (0.000000)\n",
      "52. PageBorderFill-fill (0.000000)\n",
      "53. DocumentProperties-footnote-startnum (0.000000)\n",
      "54. DocumentProperties-math-startnum (0.000000)\n",
      "55. DocumentProperties-page-startnum (0.000000)\n",
      "56. PageBorderFill-margin-right (0.000000)\n",
      "57. PageBorderFill-margin-top (0.000000)\n"
     ]
    },
    {
     "data": {
      "image/png": "[encoded data removed]",
      "text/plain": [
       "<Figure size 936x1008 with 1 Axes>"
      ]
     },
     "metadata": {
      "needs_background": "light"
     },
     "output_type": "display_data"
    }
   ],
   "source": [
    "model_5 = RandomForestClassifier(random_state=42, criterion='gini', \n",
    "max_features=\"sqrt\", min_samples_leaf=1, min_samples_split=2,  n_estimators=100)    \n",
    "clr_rf_5 = model_5.fit(x_train,y_train)\n",
    "importances = clr_rf_5.feature_importances_\n",
    "std = np.std([tree.feature_importances_ for tree in clr_rf_5.estimators_],\n",
    "             axis=0)\n",
    "indices = np.argsort(importances)\n",
    "print_indices = np.argsort(-importances)\n",
    "\n",
    "# Print the feature ranking\n",
    "print(\"Feature ranking:\")\n",
    "\n",
    "for f in range(x_train.shape[1]):\n",
    "    print(\"%d. %s (%f)\" % (f + 1,  x_train.columns[print_indices[f]], importances[print_indices[f]]))\n",
    "\n",
    "# Plot the feature importances of the forest\n",
    "plt.figure(1, figsize=(13, 14))\n",
    "plt.title(\"Feature importances\")\n",
    "plt.barh( range(x_train.shape[1]), importances[indices],\n",
    "       color=\"g\", yerr=std[indices], align=\"center\")\n",
    "plt.yticks(range(x_train.shape[1]),  x_train.columns[indices])\n",
    "plt.ylim([-1, x_train.shape[1]])\n",
    "plt.show()"
   ]
  },
  {
   "cell_type": "code",
   "execution_count": 11,
   "metadata": {},
   "outputs": [
    {
     "name": "stdout",
     "output_type": "stream",
     "text": [
      "Input Training: (4900, 55)\n",
      "Input Test: (2100, 55)\n",
      "Output Training: (4900,)\n",
      "Output Test: (2100,)\n"
     ]
    }
   ],
   "source": [
    "x_train = x_train[select_all_col]\n",
    "x_test = x_test[select_all_col]\n",
    "print(\"Input Training:\",x_train.shape)\n",
    "print(\"Input Test:\",x_test.shape)\n",
    "print(\"Output Training:\",y_train.shape)\n",
    "print(\"Output Test:\",y_test.shape)"
   ]
  },
  {
   "cell_type": "code",
   "execution_count": 12,
   "metadata": {},
   "outputs": [
    {
     "data": {
      "text/html": [
       "<div>\n",
       "<style scoped>\n",
       "    .dataframe tbody tr th:only-of-type {\n",
       "        vertical-align: middle;\n",
       "    }\n",
       "\n",
       "    .dataframe tbody tr th {\n",
       "        vertical-align: top;\n",
       "    }\n",
       "\n",
       "    .dataframe thead th {\n",
       "        text-align: right;\n",
       "    }\n",
       "</style>\n",
       "<table border=\"1\" class=\"dataframe\">\n",
       "  <thead>\n",
       "    <tr style=\"text-align: right;\">\n",
       "      <th></th>\n",
       "      <th>IdMappings-borderfills</th>\n",
       "      <th>IdMappings-charshapes</th>\n",
       "      <th>IdMappings-cn-fonts</th>\n",
       "      <th>IdMappings-en-fonts</th>\n",
       "      <th>IdMappings-jp-fonts</th>\n",
       "      <th>IdMappings-ko-fonts</th>\n",
       "      <th>IdMappings-memoshapes</th>\n",
       "      <th>IdMappings-numberings</th>\n",
       "      <th>IdMappings-other-fonts</th>\n",
       "      <th>IdMappings-parashapes</th>\n",
       "      <th>...</th>\n",
       "      <th>Numbering-align</th>\n",
       "      <th>Numbering-auto-indent</th>\n",
       "      <th>Numbering-auto-width</th>\n",
       "      <th>Numbering-charshape-id</th>\n",
       "      <th>Numbering-flags</th>\n",
       "      <th>Numbering-numbering-format</th>\n",
       "      <th>Numbering-space</th>\n",
       "      <th>Numbering-space-type</th>\n",
       "      <th>Numbering-starting-number</th>\n",
       "      <th>Numbering-width-correction</th>\n",
       "    </tr>\n",
       "  </thead>\n",
       "  <tbody>\n",
       "    <tr>\n",
       "      <th>6609</th>\n",
       "      <td>10.0</td>\n",
       "      <td>35.0</td>\n",
       "      <td>5.0</td>\n",
       "      <td>8.0</td>\n",
       "      <td>6.0</td>\n",
       "      <td>7.0</td>\n",
       "      <td>0.0</td>\n",
       "      <td>0.0</td>\n",
       "      <td>5.0</td>\n",
       "      <td>19.0</td>\n",
       "      <td>...</td>\n",
       "      <td>-1.0</td>\n",
       "      <td>-2.0</td>\n",
       "      <td>-2.0</td>\n",
       "      <td>-2.0</td>\n",
       "      <td>-1.0</td>\n",
       "      <td>-1.0</td>\n",
       "      <td>-2.0</td>\n",
       "      <td>-1.0</td>\n",
       "      <td>-2.0</td>\n",
       "      <td>-2.0</td>\n",
       "    </tr>\n",
       "    <tr>\n",
       "      <th>4761</th>\n",
       "      <td>22.0</td>\n",
       "      <td>55.0</td>\n",
       "      <td>7.0</td>\n",
       "      <td>8.0</td>\n",
       "      <td>7.0</td>\n",
       "      <td>8.0</td>\n",
       "      <td>0.0</td>\n",
       "      <td>1.0</td>\n",
       "      <td>7.0</td>\n",
       "      <td>49.0</td>\n",
       "      <td>...</td>\n",
       "      <td>0.0</td>\n",
       "      <td>1.0</td>\n",
       "      <td>1.0</td>\n",
       "      <td>-1.0</td>\n",
       "      <td>4.0</td>\n",
       "      <td>2.0</td>\n",
       "      <td>50.0</td>\n",
       "      <td>0.0</td>\n",
       "      <td>0.0</td>\n",
       "      <td>0.0</td>\n",
       "    </tr>\n",
       "    <tr>\n",
       "      <th>4678</th>\n",
       "      <td>96.0</td>\n",
       "      <td>164.0</td>\n",
       "      <td>15.0</td>\n",
       "      <td>19.0</td>\n",
       "      <td>14.0</td>\n",
       "      <td>14.0</td>\n",
       "      <td>0.0</td>\n",
       "      <td>1.0</td>\n",
       "      <td>11.0</td>\n",
       "      <td>136.0</td>\n",
       "      <td>...</td>\n",
       "      <td>0.0</td>\n",
       "      <td>1.0</td>\n",
       "      <td>1.0</td>\n",
       "      <td>-1.0</td>\n",
       "      <td>4.0</td>\n",
       "      <td>2.0</td>\n",
       "      <td>50.0</td>\n",
       "      <td>0.0</td>\n",
       "      <td>0.0</td>\n",
       "      <td>0.0</td>\n",
       "    </tr>\n",
       "    <tr>\n",
       "      <th>4692</th>\n",
       "      <td>17.0</td>\n",
       "      <td>138.0</td>\n",
       "      <td>10.0</td>\n",
       "      <td>12.0</td>\n",
       "      <td>10.0</td>\n",
       "      <td>11.0</td>\n",
       "      <td>0.0</td>\n",
       "      <td>1.0</td>\n",
       "      <td>9.0</td>\n",
       "      <td>59.0</td>\n",
       "      <td>...</td>\n",
       "      <td>0.0</td>\n",
       "      <td>1.0</td>\n",
       "      <td>1.0</td>\n",
       "      <td>-1.0</td>\n",
       "      <td>4.0</td>\n",
       "      <td>2.0</td>\n",
       "      <td>50.0</td>\n",
       "      <td>0.0</td>\n",
       "      <td>0.0</td>\n",
       "      <td>0.0</td>\n",
       "    </tr>\n",
       "    <tr>\n",
       "      <th>1339</th>\n",
       "      <td>20.0</td>\n",
       "      <td>83.0</td>\n",
       "      <td>9.0</td>\n",
       "      <td>10.0</td>\n",
       "      <td>9.0</td>\n",
       "      <td>9.0</td>\n",
       "      <td>0.0</td>\n",
       "      <td>1.0</td>\n",
       "      <td>8.0</td>\n",
       "      <td>64.0</td>\n",
       "      <td>...</td>\n",
       "      <td>0.0</td>\n",
       "      <td>1.0</td>\n",
       "      <td>1.0</td>\n",
       "      <td>-1.0</td>\n",
       "      <td>4.0</td>\n",
       "      <td>2.0</td>\n",
       "      <td>50.0</td>\n",
       "      <td>0.0</td>\n",
       "      <td>0.0</td>\n",
       "      <td>0.0</td>\n",
       "    </tr>\n",
       "    <tr>\n",
       "      <th>...</th>\n",
       "      <td>...</td>\n",
       "      <td>...</td>\n",
       "      <td>...</td>\n",
       "      <td>...</td>\n",
       "      <td>...</td>\n",
       "      <td>...</td>\n",
       "      <td>...</td>\n",
       "      <td>...</td>\n",
       "      <td>...</td>\n",
       "      <td>...</td>\n",
       "      <td>...</td>\n",
       "      <td>...</td>\n",
       "      <td>...</td>\n",
       "      <td>...</td>\n",
       "      <td>...</td>\n",
       "      <td>...</td>\n",
       "      <td>...</td>\n",
       "      <td>...</td>\n",
       "      <td>...</td>\n",
       "      <td>...</td>\n",
       "      <td>...</td>\n",
       "    </tr>\n",
       "    <tr>\n",
       "      <th>664</th>\n",
       "      <td>34.0</td>\n",
       "      <td>91.0</td>\n",
       "      <td>15.0</td>\n",
       "      <td>17.0</td>\n",
       "      <td>15.0</td>\n",
       "      <td>16.0</td>\n",
       "      <td>0.0</td>\n",
       "      <td>1.0</td>\n",
       "      <td>13.0</td>\n",
       "      <td>65.0</td>\n",
       "      <td>...</td>\n",
       "      <td>0.0</td>\n",
       "      <td>1.0</td>\n",
       "      <td>1.0</td>\n",
       "      <td>-1.0</td>\n",
       "      <td>4.0</td>\n",
       "      <td>2.0</td>\n",
       "      <td>50.0</td>\n",
       "      <td>0.0</td>\n",
       "      <td>0.0</td>\n",
       "      <td>0.0</td>\n",
       "    </tr>\n",
       "    <tr>\n",
       "      <th>3276</th>\n",
       "      <td>41.0</td>\n",
       "      <td>100.0</td>\n",
       "      <td>13.0</td>\n",
       "      <td>17.0</td>\n",
       "      <td>13.0</td>\n",
       "      <td>15.0</td>\n",
       "      <td>0.0</td>\n",
       "      <td>0.0</td>\n",
       "      <td>8.0</td>\n",
       "      <td>72.0</td>\n",
       "      <td>...</td>\n",
       "      <td>-1.0</td>\n",
       "      <td>-2.0</td>\n",
       "      <td>-2.0</td>\n",
       "      <td>-2.0</td>\n",
       "      <td>-1.0</td>\n",
       "      <td>-1.0</td>\n",
       "      <td>-2.0</td>\n",
       "      <td>-1.0</td>\n",
       "      <td>-2.0</td>\n",
       "      <td>-2.0</td>\n",
       "    </tr>\n",
       "    <tr>\n",
       "      <th>1318</th>\n",
       "      <td>17.0</td>\n",
       "      <td>74.0</td>\n",
       "      <td>9.0</td>\n",
       "      <td>9.0</td>\n",
       "      <td>9.0</td>\n",
       "      <td>7.0</td>\n",
       "      <td>0.0</td>\n",
       "      <td>1.0</td>\n",
       "      <td>8.0</td>\n",
       "      <td>56.0</td>\n",
       "      <td>...</td>\n",
       "      <td>0.0</td>\n",
       "      <td>1.0</td>\n",
       "      <td>1.0</td>\n",
       "      <td>-1.0</td>\n",
       "      <td>4.0</td>\n",
       "      <td>2.0</td>\n",
       "      <td>50.0</td>\n",
       "      <td>0.0</td>\n",
       "      <td>0.0</td>\n",
       "      <td>0.0</td>\n",
       "    </tr>\n",
       "    <tr>\n",
       "      <th>723</th>\n",
       "      <td>21.0</td>\n",
       "      <td>64.0</td>\n",
       "      <td>9.0</td>\n",
       "      <td>9.0</td>\n",
       "      <td>9.0</td>\n",
       "      <td>8.0</td>\n",
       "      <td>0.0</td>\n",
       "      <td>1.0</td>\n",
       "      <td>8.0</td>\n",
       "      <td>58.0</td>\n",
       "      <td>...</td>\n",
       "      <td>0.0</td>\n",
       "      <td>1.0</td>\n",
       "      <td>1.0</td>\n",
       "      <td>-1.0</td>\n",
       "      <td>4.0</td>\n",
       "      <td>2.0</td>\n",
       "      <td>50.0</td>\n",
       "      <td>0.0</td>\n",
       "      <td>0.0</td>\n",
       "      <td>0.0</td>\n",
       "    </tr>\n",
       "    <tr>\n",
       "      <th>2863</th>\n",
       "      <td>35.0</td>\n",
       "      <td>194.0</td>\n",
       "      <td>12.0</td>\n",
       "      <td>15.0</td>\n",
       "      <td>12.0</td>\n",
       "      <td>13.0</td>\n",
       "      <td>0.0</td>\n",
       "      <td>1.0</td>\n",
       "      <td>11.0</td>\n",
       "      <td>98.0</td>\n",
       "      <td>...</td>\n",
       "      <td>0.0</td>\n",
       "      <td>1.0</td>\n",
       "      <td>1.0</td>\n",
       "      <td>-1.0</td>\n",
       "      <td>4.0</td>\n",
       "      <td>2.0</td>\n",
       "      <td>50.0</td>\n",
       "      <td>0.0</td>\n",
       "      <td>0.0</td>\n",
       "      <td>0.0</td>\n",
       "    </tr>\n",
       "  </tbody>\n",
       "</table>\n",
       "<p>4900 rows × 55 columns</p>\n",
       "</div>"
      ],
      "text/plain": [
       "      IdMappings-borderfills  IdMappings-charshapes  IdMappings-cn-fonts  \\\n",
       "6609                    10.0                   35.0                  5.0   \n",
       "4761                    22.0                   55.0                  7.0   \n",
       "4678                    96.0                  164.0                 15.0   \n",
       "4692                    17.0                  138.0                 10.0   \n",
       "1339                    20.0                   83.0                  9.0   \n",
       "...                      ...                    ...                  ...   \n",
       "664                     34.0                   91.0                 15.0   \n",
       "3276                    41.0                  100.0                 13.0   \n",
       "1318                    17.0                   74.0                  9.0   \n",
       "723                     21.0                   64.0                  9.0   \n",
       "2863                    35.0                  194.0                 12.0   \n",
       "\n",
       "      IdMappings-en-fonts  IdMappings-jp-fonts  IdMappings-ko-fonts  \\\n",
       "6609                  8.0                  6.0                  7.0   \n",
       "4761                  8.0                  7.0                  8.0   \n",
       "4678                 19.0                 14.0                 14.0   \n",
       "4692                 12.0                 10.0                 11.0   \n",
       "1339                 10.0                  9.0                  9.0   \n",
       "...                   ...                  ...                  ...   \n",
       "664                  17.0                 15.0                 16.0   \n",
       "3276                 17.0                 13.0                 15.0   \n",
       "1318                  9.0                  9.0                  7.0   \n",
       "723                   9.0                  9.0                  8.0   \n",
       "2863                 15.0                 12.0                 13.0   \n",
       "\n",
       "      IdMappings-memoshapes  IdMappings-numberings  IdMappings-other-fonts  \\\n",
       "6609                    0.0                    0.0                     5.0   \n",
       "4761                    0.0                    1.0                     7.0   \n",
       "4678                    0.0                    1.0                    11.0   \n",
       "4692                    0.0                    1.0                     9.0   \n",
       "1339                    0.0                    1.0                     8.0   \n",
       "...                     ...                    ...                     ...   \n",
       "664                     0.0                    1.0                    13.0   \n",
       "3276                    0.0                    0.0                     8.0   \n",
       "1318                    0.0                    1.0                     8.0   \n",
       "723                     0.0                    1.0                     8.0   \n",
       "2863                    0.0                    1.0                    11.0   \n",
       "\n",
       "      IdMappings-parashapes  ...  Numbering-align  Numbering-auto-indent  \\\n",
       "6609                   19.0  ...             -1.0                   -2.0   \n",
       "4761                   49.0  ...              0.0                    1.0   \n",
       "4678                  136.0  ...              0.0                    1.0   \n",
       "4692                   59.0  ...              0.0                    1.0   \n",
       "1339                   64.0  ...              0.0                    1.0   \n",
       "...                     ...  ...              ...                    ...   \n",
       "664                    65.0  ...              0.0                    1.0   \n",
       "3276                   72.0  ...             -1.0                   -2.0   \n",
       "1318                   56.0  ...              0.0                    1.0   \n",
       "723                    58.0  ...              0.0                    1.0   \n",
       "2863                   98.0  ...              0.0                    1.0   \n",
       "\n",
       "      Numbering-auto-width  Numbering-charshape-id  Numbering-flags  \\\n",
       "6609                  -2.0                    -2.0             -1.0   \n",
       "4761                   1.0                    -1.0              4.0   \n",
       "4678                   1.0                    -1.0              4.0   \n",
       "4692                   1.0                    -1.0              4.0   \n",
       "1339                   1.0                    -1.0              4.0   \n",
       "...                    ...                     ...              ...   \n",
       "664                    1.0                    -1.0              4.0   \n",
       "3276                  -2.0                    -2.0             -1.0   \n",
       "1318                   1.0                    -1.0              4.0   \n",
       "723                    1.0                    -1.0              4.0   \n",
       "2863                   1.0                    -1.0              4.0   \n",
       "\n",
       "      Numbering-numbering-format  Numbering-space  Numbering-space-type  \\\n",
       "6609                        -1.0             -2.0                  -1.0   \n",
       "4761                         2.0             50.0                   0.0   \n",
       "4678                         2.0             50.0                   0.0   \n",
       "4692                         2.0             50.0                   0.0   \n",
       "1339                         2.0             50.0                   0.0   \n",
       "...                          ...              ...                   ...   \n",
       "664                          2.0             50.0                   0.0   \n",
       "3276                        -1.0             -2.0                  -1.0   \n",
       "1318                         2.0             50.0                   0.0   \n",
       "723                          2.0             50.0                   0.0   \n",
       "2863                         2.0             50.0                   0.0   \n",
       "\n",
       "      Numbering-starting-number  Numbering-width-correction  \n",
       "6609                       -2.0                        -2.0  \n",
       "4761                        0.0                         0.0  \n",
       "4678                        0.0                         0.0  \n",
       "4692                        0.0                         0.0  \n",
       "1339                        0.0                         0.0  \n",
       "...                         ...                         ...  \n",
       "664                         0.0                         0.0  \n",
       "3276                       -2.0                        -2.0  \n",
       "1318                        0.0                         0.0  \n",
       "723                         0.0                         0.0  \n",
       "2863                        0.0                         0.0  \n",
       "\n",
       "[4900 rows x 55 columns]"
      ]
     },
     "execution_count": 12,
     "metadata": {},
     "output_type": "execute_result"
    }
   ],
   "source": [
    "x_train"
   ]
  },
  {
   "cell_type": "markdown",
   "metadata": {},
   "source": [
    "# Cross validate model with Kfold stratified cross val"
   ]
  },
  {
   "cell_type": "code",
   "execution_count": 13,
   "metadata": {},
   "outputs": [],
   "source": [
    "from sklearn.model_selection import StratifiedKFold\n",
    "\n",
    "kfold = StratifiedKFold(n_splits=10)\n",
    "\n",
    "# Modeling step Test differents algorithms \n",
    "random_state = 42\n",
    "classifiers = []\n",
    "classifiers.append(SVC(random_state=random_state))\n",
    "classifiers.append(DecisionTreeClassifier(random_state=random_state, criterion='gini', max_features=\"sqrt\", min_samples_leaf=1, min_samples_split=2))\n",
    "classifiers.append(RandomForestClassifier(random_state=random_state, criterion='gini', max_features=\"sqrt\", min_samples_leaf=1, min_samples_split=2,  n_estimators=100))\n",
    "classifiers.append(ExtraTreesClassifier(random_state=random_state, criterion='gini', max_features=\"sqrt\", min_samples_leaf=1, min_samples_split=2,  n_estimators=100))\n",
    "# classifiers.append(AdaBoostClassifier(random_state=random_state,learning_rate=0.1))\n",
    "# classifiers.append(GradientBoostingClassifier(random_state=random_state))\n",
    "# classifiers.append(MLPClassifier(random_state=random_state))\n",
    "# classifiers.append(KNeighborsClassifier())\n",
    "# classifiers.append(LogisticRegression(random_state = random_state))\n",
    "# classifiers.append(LinearDiscriminantAnalysis())\n",
    "# classifiers.append(BernoulliNB())"
   ]
  },
  {
   "cell_type": "code",
   "execution_count": 14,
   "metadata": {},
   "outputs": [],
   "source": [
    "\n",
    "acc_cv_results = []\n",
    "precision_cv_results = []\n",
    "recall_cv_results = []\n",
    "f1_score_cv_results = []\n",
    "\n",
    "for classifier in classifiers :\n",
    "    acc_cv_results.append(cross_val_score(classifier, x_train, y_train, scoring='accuracy' , cv = kfold, n_jobs=-1))\n",
    "    precision_cv_results.append(cross_val_score(classifier, x_train, y_train, scoring='precision_macro' , cv = kfold, n_jobs=-1))\n",
    "    recall_cv_results.append(cross_val_score(classifier, x_train, y_train, scoring='recall_macro' , cv = kfold, n_jobs=-1))\n",
    "    f1_score_cv_results.append(cross_val_score(classifier, x_train, y_train, scoring='f1_macro' , cv = kfold, n_jobs=-1))\n"
   ]
  },
  {
   "cell_type": "markdown",
   "metadata": {},
   "source": [
    "## 전체 Feature 를 고려한 정확도"
   ]
  },
  {
   "cell_type": "code",
   "execution_count": 15,
   "metadata": {},
   "outputs": [],
   "source": [
    "\n",
    "acc_cv_means = []\n",
    "acc_cv_std = []\n",
    "for cv_result in acc_cv_results:\n",
    "    acc_cv_means.append(cv_result.mean())\n",
    "    acc_cv_std.append(cv_result.std())\n",
    "acc_cv_res = pd.DataFrame({\"CrossValMeans\":acc_cv_means,\"CrossValerrors\": acc_cv_std,\"Algorithm\":[\"SVM\",\"DecisionTree\",\"RandomForest\",\"ExtraTrees\"]})"
   ]
  },
  {
   "cell_type": "code",
   "execution_count": 16,
   "metadata": {},
   "outputs": [
    {
     "name": "stderr",
     "output_type": "stream",
     "text": [
      "c:\\Users\\User\\AppData\\Local\\Programs\\Python\\Python37\\lib\\site-packages\\seaborn\\_decorators.py:43: FutureWarning: Pass the following variables as keyword args: x, y. From version 0.12, the only valid positional argument will be `data`, and passing other arguments without an explicit keyword will result in an error or misinterpretation.\n",
      "  FutureWarning\n"
     ]
    },
    {
     "data": {
      "image/png": "[encoded data removed]",
      "text/plain": [
       "<Figure size 432x288 with 1 Axes>"
      ]
     },
     "metadata": {
      "needs_background": "light"
     },
     "output_type": "display_data"
    }
   ],
   "source": [
    "g = sns.barplot(\"CrossValMeans\",\"Algorithm\", data = acc_cv_res, palette=\"Set3\",orient = \"h\",**{'xerr':acc_cv_std})\n",
    "g.set_xlabel(\"Mean Accuracy\")\n",
    "g = g.set_title(\"Cross validation scores\")"
   ]
  },
  {
   "cell_type": "code",
   "execution_count": 17,
   "metadata": {},
   "outputs": [
    {
     "data": {
      "text/html": [
       "<div>\n",
       "<style scoped>\n",
       "    .dataframe tbody tr th:only-of-type {\n",
       "        vertical-align: middle;\n",
       "    }\n",
       "\n",
       "    .dataframe tbody tr th {\n",
       "        vertical-align: top;\n",
       "    }\n",
       "\n",
       "    .dataframe thead th {\n",
       "        text-align: right;\n",
       "    }\n",
       "</style>\n",
       "<table border=\"1\" class=\"dataframe\">\n",
       "  <thead>\n",
       "    <tr style=\"text-align: right;\">\n",
       "      <th></th>\n",
       "      <th>CrossValMeans</th>\n",
       "      <th>CrossValerrors</th>\n",
       "      <th>Algorithm</th>\n",
       "    </tr>\n",
       "  </thead>\n",
       "  <tbody>\n",
       "    <tr>\n",
       "      <th>0</th>\n",
       "      <td>0.274898</td>\n",
       "      <td>0.008317</td>\n",
       "      <td>SVM</td>\n",
       "    </tr>\n",
       "    <tr>\n",
       "      <th>1</th>\n",
       "      <td>0.879184</td>\n",
       "      <td>0.011573</td>\n",
       "      <td>DecisionTree</td>\n",
       "    </tr>\n",
       "    <tr>\n",
       "      <th>2</th>\n",
       "      <td>0.951224</td>\n",
       "      <td>0.005805</td>\n",
       "      <td>RandomForest</td>\n",
       "    </tr>\n",
       "    <tr>\n",
       "      <th>3</th>\n",
       "      <td>0.951837</td>\n",
       "      <td>0.008523</td>\n",
       "      <td>ExtraTrees</td>\n",
       "    </tr>\n",
       "  </tbody>\n",
       "</table>\n",
       "</div>"
      ],
      "text/plain": [
       "   CrossValMeans  CrossValerrors     Algorithm\n",
       "0       0.274898        0.008317           SVM\n",
       "1       0.879184        0.011573  DecisionTree\n",
       "2       0.951224        0.005805  RandomForest\n",
       "3       0.951837        0.008523    ExtraTrees"
      ]
     },
     "execution_count": 17,
     "metadata": {},
     "output_type": "execute_result"
    }
   ],
   "source": [
    "acc_cv_res"
   ]
  },
  {
   "cell_type": "markdown",
   "metadata": {},
   "source": [
    "## 전체 Feature를 고려한 precision"
   ]
  },
  {
   "cell_type": "code",
   "execution_count": 18,
   "metadata": {},
   "outputs": [],
   "source": [
    "precision_cv_means = []\n",
    "precision_cv_std = []\n",
    "for cv_result in precision_cv_results:\n",
    "    precision_cv_means.append(cv_result.mean())\n",
    "    precision_cv_std.append(cv_result.std())\n",
    "precision_cv_res = pd.DataFrame({\"CrossValMeans\":precision_cv_means,\"CrossValerrors\": precision_cv_std,\"Algorithm\":[\"SVM\",\"DecisionTree\",\"RandomForest\",\"ExtraTrees\"]})"
   ]
  },
  {
   "cell_type": "code",
   "execution_count": 19,
   "metadata": {},
   "outputs": [
    {
     "name": "stderr",
     "output_type": "stream",
     "text": [
      "c:\\Users\\User\\AppData\\Local\\Programs\\Python\\Python37\\lib\\site-packages\\seaborn\\_decorators.py:43: FutureWarning: Pass the following variables as keyword args: x, y. From version 0.12, the only valid positional argument will be `data`, and passing other arguments without an explicit keyword will result in an error or misinterpretation.\n",
      "  FutureWarning\n"
     ]
    },
    {
     "data": {
      "image/png": "[encoded data removed]",
      "text/plain": [
       "<Figure size 432x288 with 1 Axes>"
      ]
     },
     "metadata": {
      "needs_background": "light"
     },
     "output_type": "display_data"
    }
   ],
   "source": [
    "g = sns.barplot(\"CrossValMeans\",\"Algorithm\", data = precision_cv_res, palette=\"Set3\",orient = \"h\",**{'xerr':precision_cv_std})\n",
    "g.set_xlabel(\"Mean Accuracy\")\n",
    "g = g.set_title(\"Cross validation scores\")"
   ]
  },
  {
   "cell_type": "code",
   "execution_count": 20,
   "metadata": {},
   "outputs": [
    {
     "data": {
      "text/html": [
       "<div>\n",
       "<style scoped>\n",
       "    .dataframe tbody tr th:only-of-type {\n",
       "        vertical-align: middle;\n",
       "    }\n",
       "\n",
       "    .dataframe tbody tr th {\n",
       "        vertical-align: top;\n",
       "    }\n",
       "\n",
       "    .dataframe thead th {\n",
       "        text-align: right;\n",
       "    }\n",
       "</style>\n",
       "<table border=\"1\" class=\"dataframe\">\n",
       "  <thead>\n",
       "    <tr style=\"text-align: right;\">\n",
       "      <th></th>\n",
       "      <th>CrossValMeans</th>\n",
       "      <th>CrossValerrors</th>\n",
       "      <th>Algorithm</th>\n",
       "    </tr>\n",
       "  </thead>\n",
       "  <tbody>\n",
       "    <tr>\n",
       "      <th>0</th>\n",
       "      <td>0.229225</td>\n",
       "      <td>0.016635</td>\n",
       "      <td>SVM</td>\n",
       "    </tr>\n",
       "    <tr>\n",
       "      <th>1</th>\n",
       "      <td>0.881453</td>\n",
       "      <td>0.011458</td>\n",
       "      <td>DecisionTree</td>\n",
       "    </tr>\n",
       "    <tr>\n",
       "      <th>2</th>\n",
       "      <td>0.952209</td>\n",
       "      <td>0.005624</td>\n",
       "      <td>RandomForest</td>\n",
       "    </tr>\n",
       "    <tr>\n",
       "      <th>3</th>\n",
       "      <td>0.952780</td>\n",
       "      <td>0.008237</td>\n",
       "      <td>ExtraTrees</td>\n",
       "    </tr>\n",
       "  </tbody>\n",
       "</table>\n",
       "</div>"
      ],
      "text/plain": [
       "   CrossValMeans  CrossValerrors     Algorithm\n",
       "0       0.229225        0.016635           SVM\n",
       "1       0.881453        0.011458  DecisionTree\n",
       "2       0.952209        0.005624  RandomForest\n",
       "3       0.952780        0.008237    ExtraTrees"
      ]
     },
     "execution_count": 20,
     "metadata": {},
     "output_type": "execute_result"
    }
   ],
   "source": [
    "precision_cv_res"
   ]
  },
  {
   "cell_type": "markdown",
   "metadata": {},
   "source": [
    "## 전체 Feature를 고려한 Recall"
   ]
  },
  {
   "cell_type": "code",
   "execution_count": 21,
   "metadata": {},
   "outputs": [],
   "source": [
    "recall_cv_means = []\n",
    "recall_cv_std = []\n",
    "for cv_result in recall_cv_results:\n",
    "    recall_cv_means.append(cv_result.mean())\n",
    "    recall_cv_std.append(cv_result.std())\n",
    "recall_cv_res = pd.DataFrame({\"CrossValMeans\":recall_cv_means,\"CrossValerrors\": recall_cv_std,\"Algorithm\":[\"SVM\",\"DecisionTree\",\"RandomForest\",\"ExtraTrees\"]})\n"
   ]
  },
  {
   "cell_type": "code",
   "execution_count": 22,
   "metadata": {},
   "outputs": [
    {
     "name": "stderr",
     "output_type": "stream",
     "text": [
      "c:\\Users\\User\\AppData\\Local\\Programs\\Python\\Python37\\lib\\site-packages\\seaborn\\_decorators.py:43: FutureWarning: Pass the following variables as keyword args: x, y. From version 0.12, the only valid positional argument will be `data`, and passing other arguments without an explicit keyword will result in an error or misinterpretation.\n",
      "  FutureWarning\n"
     ]
    },
    {
     "data": {
      "image/png": "[encoded data removed]",
      "text/plain": [
       "<Figure size 432x288 with 1 Axes>"
      ]
     },
     "metadata": {
      "needs_background": "light"
     },
     "output_type": "display_data"
    }
   ],
   "source": [
    "g = sns.barplot(\"CrossValMeans\",\"Algorithm\", data = recall_cv_res, palette=\"Set3\",orient = \"h\",**{'xerr':recall_cv_std})\n",
    "g.set_xlabel(\"Mean Accuracy\")\n",
    "g = g.set_title(\"Cross validation scores\")"
   ]
  },
  {
   "cell_type": "code",
   "execution_count": 23,
   "metadata": {},
   "outputs": [
    {
     "data": {
      "text/html": [
       "<div>\n",
       "<style scoped>\n",
       "    .dataframe tbody tr th:only-of-type {\n",
       "        vertical-align: middle;\n",
       "    }\n",
       "\n",
       "    .dataframe tbody tr th {\n",
       "        vertical-align: top;\n",
       "    }\n",
       "\n",
       "    .dataframe thead th {\n",
       "        text-align: right;\n",
       "    }\n",
       "</style>\n",
       "<table border=\"1\" class=\"dataframe\">\n",
       "  <thead>\n",
       "    <tr style=\"text-align: right;\">\n",
       "      <th></th>\n",
       "      <th>CrossValMeans</th>\n",
       "      <th>CrossValerrors</th>\n",
       "      <th>Algorithm</th>\n",
       "    </tr>\n",
       "  </thead>\n",
       "  <tbody>\n",
       "    <tr>\n",
       "      <th>0</th>\n",
       "      <td>0.269726</td>\n",
       "      <td>0.008706</td>\n",
       "      <td>SVM</td>\n",
       "    </tr>\n",
       "    <tr>\n",
       "      <th>1</th>\n",
       "      <td>0.879224</td>\n",
       "      <td>0.011541</td>\n",
       "      <td>DecisionTree</td>\n",
       "    </tr>\n",
       "    <tr>\n",
       "      <th>2</th>\n",
       "      <td>0.951263</td>\n",
       "      <td>0.005813</td>\n",
       "      <td>RandomForest</td>\n",
       "    </tr>\n",
       "    <tr>\n",
       "      <th>3</th>\n",
       "      <td>0.951852</td>\n",
       "      <td>0.008641</td>\n",
       "      <td>ExtraTrees</td>\n",
       "    </tr>\n",
       "  </tbody>\n",
       "</table>\n",
       "</div>"
      ],
      "text/plain": [
       "   CrossValMeans  CrossValerrors     Algorithm\n",
       "0       0.269726        0.008706           SVM\n",
       "1       0.879224        0.011541  DecisionTree\n",
       "2       0.951263        0.005813  RandomForest\n",
       "3       0.951852        0.008641    ExtraTrees"
      ]
     },
     "execution_count": 23,
     "metadata": {},
     "output_type": "execute_result"
    }
   ],
   "source": [
    "recall_cv_res"
   ]
  },
  {
   "cell_type": "markdown",
   "metadata": {},
   "source": [
    "## 전체 Feature를 고려한 f1_score"
   ]
  },
  {
   "cell_type": "code",
   "execution_count": 24,
   "metadata": {},
   "outputs": [],
   "source": [
    "f1_cv_means = []\n",
    "f1_cv_std = []\n",
    "for cv_result in f1_score_cv_results:\n",
    "    f1_cv_means.append(cv_result.mean())\n",
    "    f1_cv_std.append(cv_result.std())\n",
    "f1_cv_res = pd.DataFrame({\"CrossValMeans\":f1_cv_means,\"CrossValerrors\": f1_cv_std,\"Algorithm\":[\"SVM\",\"DecisionTree\",\"RandomForest\",\"ExtraTrees\"]})\n"
   ]
  },
  {
   "cell_type": "code",
   "execution_count": 25,
   "metadata": {},
   "outputs": [
    {
     "name": "stderr",
     "output_type": "stream",
     "text": [
      "c:\\Users\\User\\AppData\\Local\\Programs\\Python\\Python37\\lib\\site-packages\\seaborn\\_decorators.py:43: FutureWarning: Pass the following variables as keyword args: x, y. From version 0.12, the only valid positional argument will be `data`, and passing other arguments without an explicit keyword will result in an error or misinterpretation.\n",
      "  FutureWarning\n"
     ]
    },
    {
     "data": {
      "image/png": "[encoded data removed]",
      "text/plain": [
       "<Figure size 432x288 with 1 Axes>"
      ]
     },
     "metadata": {
      "needs_background": "light"
     },
     "output_type": "display_data"
    }
   ],
   "source": [
    "g = sns.barplot(\"CrossValMeans\",\"Algorithm\", data = f1_cv_res, palette=\"Set3\",orient = \"h\",**{'xerr':f1_cv_std})\n",
    "g.set_xlabel(\"Mean Accuracy\")\n",
    "g = g.set_title(\"Cross validation scores\")"
   ]
  },
  {
   "cell_type": "markdown",
   "metadata": {},
   "source": [
    "# 전체 Feature를 고려하여 개별 알고리즘 적용"
   ]
  },
  {
   "cell_type": "markdown",
   "metadata": {},
   "source": [
    "## RandomForest  "
   ]
  },
  {
   "cell_type": "code",
   "execution_count": 26,
   "metadata": {},
   "outputs": [
    {
     "name": "stdout",
     "output_type": "stream",
     "text": [
      "Accuracy is:  0.9538095238095238\n",
      "precision_score 0.9536341937143028\n",
      "recall_score 0.9535128960808541\n",
      "f1_score 0.9535217702339736\n",
      "              precision    recall  f1-score   support\n",
      "\n",
      "           A       0.94      0.97      0.95       291\n",
      "           B       0.95      0.94      0.94       311\n",
      "           C       0.95      0.94      0.95       323\n",
      "           D       0.96      0.95      0.95       277\n",
      "           E       0.93      0.92      0.92       286\n",
      "           F       0.97      0.97      0.97       301\n",
      "           G       0.98      0.99      0.99       311\n",
      "\n",
      "    accuracy                           0.95      2100\n",
      "   macro avg       0.95      0.95      0.95      2100\n",
      "weighted avg       0.95      0.95      0.95      2100\n",
      "\n"
     ]
    },
    {
     "name": "stderr",
     "output_type": "stream",
     "text": [
      "c:\\Users\\User\\AppData\\Local\\Programs\\Python\\Python37\\lib\\site-packages\\sklearn\\utils\\deprecation.py:87: FutureWarning: Function plot_confusion_matrix is deprecated; Function `plot_confusion_matrix` is deprecated in 1.0 and will be removed in 1.2. Use one of the class methods: ConfusionMatrixDisplay.from_predictions or ConfusionMatrixDisplay.from_estimator.\n",
      "  warnings.warn(msg, category=FutureWarning)\n"
     ]
    },
    {
     "data": {
      "text/plain": [
       "Text(0.5, 1.0, 'RandomForest')"
      ]
     },
     "execution_count": 26,
     "metadata": {},
     "output_type": "execute_result"
    },
    {
     "data": {
      "image/png": "[encoded data removed]",
      "text/plain": [
       "<Figure size 432x288 with 2 Axes>"
      ]
     },
     "metadata": {
      "needs_background": "light"
     },
     "output_type": "display_data"
    }
   ],
   "source": [
    "model = RandomForestClassifier(random_state=42, criterion='gini', max_features=\"sqrt\", min_samples_leaf=1, min_samples_split=2,  n_estimators=100)    \n",
    "clr_rf = model.fit(x_train,y_train)\n",
    "\n",
    "ac = accuracy_score(y_test,model.predict(x_test))\n",
    "print('Accuracy is: ',ac)\n",
    "print(\"precision_score\",precision_score(y_test,model.predict(x_test), average='macro') )\n",
    "print(\"recall_score\",recall_score(y_test,model.predict(x_test), average='macro')) \n",
    "print(\"f1_score\",f1_score(y_test,model.predict(x_test), average='macro')) \n",
    "y_label =  ['A','B','C','D','E','F','G']\n",
    "print(classification_report(y_test, model.predict(x_test), target_names=y_label))\n",
    "\n",
    "from sklearn.metrics import plot_confusion_matrix\n",
    "plot = plot_confusion_matrix(model, # 분류 모델\n",
    "                             x_test, y_test, # 예측 데이터와 예측값의 정답(y_true)\n",
    "                             cmap=plt.cm.Blues, # 컬러맵(plt.cm.Reds, plt.cm.rainbow 등이 있음)\n",
    "                             display_labels=y_label, # 표에 표시할 labels\n",
    "                             normalize=None) # 'true', 'pred', 'all' 중에서 지정 가능. default=None\n",
    "\n",
    "plot.ax_.set_title('RandomForest')"
   ]
  },
  {
   "cell_type": "markdown",
   "metadata": {},
   "source": [
    "## ExtraTree"
   ]
  },
  {
   "cell_type": "code",
   "execution_count": 27,
   "metadata": {},
   "outputs": [
    {
     "name": "stdout",
     "output_type": "stream",
     "text": [
      "Accuracy is:  0.9466666666666667\n",
      "precision_score 0.9466019149241138\n",
      "recall_score 0.9463833886502188\n",
      "f1_score 0.9463868555460545\n",
      "              precision    recall  f1-score   support\n",
      "\n",
      "           A       0.93      0.97      0.95       291\n",
      "           B       0.94      0.94      0.94       311\n",
      "           C       0.94      0.94      0.94       323\n",
      "           D       0.97      0.95      0.96       277\n",
      "           E       0.91      0.89      0.90       286\n",
      "           F       0.96      0.97      0.97       301\n",
      "           G       0.97      0.98      0.97       311\n",
      "\n",
      "    accuracy                           0.95      2100\n",
      "   macro avg       0.95      0.95      0.95      2100\n",
      "weighted avg       0.95      0.95      0.95      2100\n",
      "\n"
     ]
    },
    {
     "name": "stderr",
     "output_type": "stream",
     "text": [
      "c:\\Users\\User\\AppData\\Local\\Programs\\Python\\Python37\\lib\\site-packages\\sklearn\\utils\\deprecation.py:87: FutureWarning: Function plot_confusion_matrix is deprecated; Function `plot_confusion_matrix` is deprecated in 1.0 and will be removed in 1.2. Use one of the class methods: ConfusionMatrixDisplay.from_predictions or ConfusionMatrixDisplay.from_estimator.\n",
      "  warnings.warn(msg, category=FutureWarning)\n"
     ]
    },
    {
     "data": {
      "text/plain": [
       "Text(0.5, 1.0, 'ExtraTree')"
      ]
     },
     "execution_count": 27,
     "metadata": {},
     "output_type": "execute_result"
    },
    {
     "data": {
      "image/png": "[encoded data removed]",
      "text/plain": [
       "<Figure size 432x288 with 2 Axes>"
      ]
     },
     "metadata": {
      "needs_background": "light"
     },
     "output_type": "display_data"
    }
   ],
   "source": [
    "model = ExtraTreesClassifier(random_state=42, criterion='gini', \n",
    "max_features=\"sqrt\", min_samples_leaf=1, min_samples_split=2,  n_estimators=100)    \n",
    "clr_rf = model.fit(x_train,y_train)\n",
    "\n",
    "ac = accuracy_score(y_test,model.predict(x_test))\n",
    "print('Accuracy is: ',ac)\n",
    "print(\"precision_score\",precision_score(y_test,model.predict(x_test), average='macro') )\n",
    "print(\"recall_score\",recall_score(y_test,model.predict(x_test), average='macro')) \n",
    "print(\"f1_score\",f1_score(y_test,model.predict(x_test), average='macro')) \n",
    "# cm = confusion_matrix(y_test,model.predict(x_test))\n",
    "# sns.heatmap(cm,annot=True,fmt=\"d\")\n",
    "\n",
    "y_label =  ['A','B','C','D','E','F','G']\n",
    "print(classification_report(y_test, model.predict(x_test), target_names=y_label))\n",
    "\n",
    "from sklearn.metrics import plot_confusion_matrix\n",
    "plot = plot_confusion_matrix(model, # 분류 모델\n",
    "                             x_test, y_test, # 예측 데이터와 예측값의 정답(y_true)\n",
    "                             cmap=plt.cm.Blues, # 컬러맵(plt.cm.Reds, plt.cm.rainbow 등이 있음)\n",
    "                             display_labels=y_label, # 표에 표시할 labels\n",
    "                             normalize=None) # 'true', 'pred', 'all' 중에서 지정 가능. default=None\n",
    "\n",
    "plot.ax_.set_title('ExtraTree')"
   ]
  },
  {
   "cell_type": "markdown",
   "metadata": {},
   "source": [
    "## DecisionTree"
   ]
  },
  {
   "cell_type": "code",
   "execution_count": 28,
   "metadata": {},
   "outputs": [
    {
     "name": "stdout",
     "output_type": "stream",
     "text": [
      "Accuracy is:  0.9114285714285715\n",
      "precision_score 0.9111224870592327\n",
      "recall_score 0.9111537715069451\n",
      "f1_score 0.9111153102423061\n",
      "              precision    recall  f1-score   support\n",
      "\n",
      "           A       0.90      0.89      0.89       291\n",
      "           B       0.89      0.89      0.89       311\n",
      "           C       0.90      0.90      0.90       323\n",
      "           D       0.92      0.93      0.92       277\n",
      "           E       0.87      0.87      0.87       286\n",
      "           F       0.92      0.94      0.93       301\n",
      "           G       0.97      0.96      0.97       311\n",
      "\n",
      "    accuracy                           0.91      2100\n",
      "   macro avg       0.91      0.91      0.91      2100\n",
      "weighted avg       0.91      0.91      0.91      2100\n",
      "\n"
     ]
    },
    {
     "name": "stderr",
     "output_type": "stream",
     "text": [
      "c:\\Users\\User\\AppData\\Local\\Programs\\Python\\Python37\\lib\\site-packages\\sklearn\\utils\\deprecation.py:87: FutureWarning: Function plot_confusion_matrix is deprecated; Function `plot_confusion_matrix` is deprecated in 1.0 and will be removed in 1.2. Use one of the class methods: ConfusionMatrixDisplay.from_predictions or ConfusionMatrixDisplay.from_estimator.\n",
      "  warnings.warn(msg, category=FutureWarning)\n"
     ]
    },
    {
     "data": {
      "text/plain": [
       "Text(0.5, 1.0, 'DecisionTree')"
      ]
     },
     "execution_count": 28,
     "metadata": {},
     "output_type": "execute_result"
    },
    {
     "data": {
      "image/png": "[encoded data removed]",
      "text/plain": [
       "<Figure size 432x288 with 2 Axes>"
      ]
     },
     "metadata": {
      "needs_background": "light"
     },
     "output_type": "display_data"
    }
   ],
   "source": [
    "model = DecisionTreeClassifier(random_state=42)    \n",
    "clr_rf = model.fit(x_train,y_train)\n",
    "\n",
    "ac = accuracy_score(y_test,model.predict(x_test))\n",
    "print('Accuracy is: ',ac)\n",
    "print(\"precision_score\",precision_score(y_test,model.predict(x_test), average='macro') )\n",
    "print(\"recall_score\",recall_score(y_test,model.predict(x_test), average='macro')) \n",
    "print(\"f1_score\",f1_score(y_test,model.predict(x_test), average='macro')) \n",
    "# cm = confusion_matrix(y_test,model.predict(x_test))\n",
    "# sns.heatmap(cm,annot=True,fmt=\"d\")\n",
    "y_label =  ['A','B','C','D','E','F','G']\n",
    "print(classification_report(y_test, model.predict(x_test), target_names=y_label))\n",
    "\n",
    "from sklearn.metrics import plot_confusion_matrix\n",
    "plot = plot_confusion_matrix(model, # 분류 모델\n",
    "                             x_test, y_test, # 예측 데이터와 예측값의 정답(y_true)\n",
    "                             cmap=plt.cm.Blues, # 컬러맵(plt.cm.Reds, plt.cm.rainbow 등이 있음)\n",
    "                             display_labels=y_label, # 표에 표시할 labels\n",
    "                             normalize=None) # 'true', 'pred', 'all' 중에서 지정 가능. default=None\n",
    "\n",
    "plot.ax_.set_title('DecisionTree')"
   ]
  },
  {
   "cell_type": "markdown",
   "metadata": {},
   "source": [
    "## SVM"
   ]
  },
  {
   "cell_type": "code",
   "execution_count": 29,
   "metadata": {},
   "outputs": [
    {
     "name": "stdout",
     "output_type": "stream",
     "text": [
      "Accuracy is:  0.2623809523809524\n"
     ]
    },
    {
     "name": "stderr",
     "output_type": "stream",
     "text": [
      "c:\\Users\\User\\AppData\\Local\\Programs\\Python\\Python37\\lib\\site-packages\\sklearn\\metrics\\_classification.py:1318: UndefinedMetricWarning: Precision is ill-defined and being set to 0.0 in labels with no predicted samples. Use `zero_division` parameter to control this behavior.\n",
      "  _warn_prf(average, modifier, msg_start, len(result))\n"
     ]
    },
    {
     "name": "stdout",
     "output_type": "stream",
     "text": [
      "precision_score 0.20472767638721392\n",
      "recall_score 0.27432357884375946\n",
      "f1_score 0.19114799902944785\n"
     ]
    },
    {
     "name": "stderr",
     "output_type": "stream",
     "text": [
      "c:\\Users\\User\\AppData\\Local\\Programs\\Python\\Python37\\lib\\site-packages\\sklearn\\metrics\\_classification.py:1318: UndefinedMetricWarning: Precision and F-score are ill-defined and being set to 0.0 in labels with no predicted samples. Use `zero_division` parameter to control this behavior.\n",
      "  _warn_prf(average, modifier, msg_start, len(result))\n",
      "c:\\Users\\User\\AppData\\Local\\Programs\\Python\\Python37\\lib\\site-packages\\sklearn\\metrics\\_classification.py:1318: UndefinedMetricWarning: Precision and F-score are ill-defined and being set to 0.0 in labels with no predicted samples. Use `zero_division` parameter to control this behavior.\n",
      "  _warn_prf(average, modifier, msg_start, len(result))\n",
      "c:\\Users\\User\\AppData\\Local\\Programs\\Python\\Python37\\lib\\site-packages\\sklearn\\metrics\\_classification.py:1318: UndefinedMetricWarning: Precision and F-score are ill-defined and being set to 0.0 in labels with no predicted samples. Use `zero_division` parameter to control this behavior.\n",
      "  _warn_prf(average, modifier, msg_start, len(result))\n",
      "c:\\Users\\User\\AppData\\Local\\Programs\\Python\\Python37\\lib\\site-packages\\sklearn\\utils\\deprecation.py:87: FutureWarning: Function plot_confusion_matrix is deprecated; Function `plot_confusion_matrix` is deprecated in 1.0 and will be removed in 1.2. Use one of the class methods: ConfusionMatrixDisplay.from_predictions or ConfusionMatrixDisplay.from_estimator.\n",
      "  warnings.warn(msg, category=FutureWarning)\n"
     ]
    },
    {
     "name": "stdout",
     "output_type": "stream",
     "text": [
      "              precision    recall  f1-score   support\n",
      "\n",
      "           A       0.00      0.00      0.00       291\n",
      "           B       0.76      0.43      0.55       311\n",
      "           C       0.00      0.00      0.00       323\n",
      "           D       0.17      1.00      0.29       277\n",
      "           E       0.50      0.49      0.50       286\n",
      "           F       0.00      0.00      0.00       301\n",
      "           G       0.00      0.00      0.00       311\n",
      "\n",
      "    accuracy                           0.26      2100\n",
      "   macro avg       0.20      0.27      0.19      2100\n",
      "weighted avg       0.20      0.26      0.19      2100\n",
      "\n"
     ]
    },
    {
     "data": {
      "text/plain": [
       "Text(0.5, 1.0, 'SVM')"
      ]
     },
     "execution_count": 29,
     "metadata": {},
     "output_type": "execute_result"
    },
    {
     "data": {
      "image/png": "[encoded data removed]",
      "text/plain": [
       "<Figure size 432x288 with 2 Axes>"
      ]
     },
     "metadata": {
      "needs_background": "light"
     },
     "output_type": "display_data"
    }
   ],
   "source": [
    "model = SVC(random_state=42)    \n",
    "clr_rf = model.fit(x_train,y_train)\n",
    "\n",
    "ac = accuracy_score(y_test,model.predict(x_test))\n",
    "print('Accuracy is: ',ac)\n",
    "print(\"precision_score\",precision_score(y_test,model.predict(x_test), average='macro') )\n",
    "print(\"recall_score\",recall_score(y_test,model.predict(x_test), average='macro')) \n",
    "print(\"f1_score\",f1_score(y_test,model.predict(x_test), average='macro')) \n",
    "# cm = confusion_matrix(y_test,model.predict(x_test))\n",
    "# sns.heatmap(cm,annot=True,fmt=\"d\")\n",
    "y_label =  ['A','B','C','D','E','F','G']\n",
    "print(classification_report(y_test, model.predict(x_test), target_names=y_label))\n",
    "\n",
    "from sklearn.metrics import plot_confusion_matrix\n",
    "plot = plot_confusion_matrix(model, # 분류 모델\n",
    "                             x_test, y_test, # 예측 데이터와 예측값의 정답(y_true)\n",
    "                             cmap=plt.cm.Blues, # 컬러맵(plt.cm.Reds, plt.cm.rainbow 등이 있음)\n",
    "                             display_labels=y_label, # 표에 표시할 labels\n",
    "                             normalize=None) # 'true', 'pred', 'all' 중에서 지정 가능. default=None\n",
    "\n",
    "plot.ax_.set_title('SVM')"
   ]
  },
  {
   "cell_type": "markdown",
   "metadata": {},
   "source": [
    "# Feature 중요도 상위 25개의 Feature 에 대하여"
   ]
  },
  {
   "cell_type": "code",
   "execution_count": 30,
   "metadata": {},
   "outputs": [
    {
     "data": {
      "text/plain": [
       "25"
      ]
     },
     "execution_count": 30,
     "metadata": {},
     "output_type": "execute_result"
    }
   ],
   "source": [
    "select_columns =['PageDef-top-offset', 'PageDef-left-offset', 'PageDef-right-offset', 'PageDef-bottom-offset', 'PageDef-header-offset', 'PageDef-footer-offset',\n",
    "'PageBorderFill-flags', 'PageBorderFill-borderfill-id', 'FaceName-enname', 'FaceName-koname', 'Style-local-name',\n",
    " 'IdMappings-styles', 'IdMappings-borderfills', 'IdMappings-user-fonts', 'IdMappings-parashapes', 'IdMappings-symbol-fonts','IdMappings-tabdefs', 'IdMappings-other-fonts', 'IdMappings-charshapes',\n",
    "'IdMappings-en-fonts', 'IdMappings-jp-fonts', 'IdMappings-ko-fonts','IdMappings-cn-fonts','IdMappings-jp-fonts', \n",
    "'Numbering-auto-width', ]\n",
    "x_train = x_train[select_columns]\n",
    "x_test = x_test[select_columns]\n",
    "len(select_columns)"
   ]
  },
  {
   "cell_type": "code",
   "execution_count": 31,
   "metadata": {},
   "outputs": [
    {
     "data": {
      "text/html": [
       "<div>\n",
       "<style scoped>\n",
       "    .dataframe tbody tr th:only-of-type {\n",
       "        vertical-align: middle;\n",
       "    }\n",
       "\n",
       "    .dataframe tbody tr th {\n",
       "        vertical-align: top;\n",
       "    }\n",
       "\n",
       "    .dataframe thead th {\n",
       "        text-align: right;\n",
       "    }\n",
       "</style>\n",
       "<table border=\"1\" class=\"dataframe\">\n",
       "  <thead>\n",
       "    <tr style=\"text-align: right;\">\n",
       "      <th></th>\n",
       "      <th>PageDef-top-offset</th>\n",
       "      <th>PageDef-left-offset</th>\n",
       "      <th>PageDef-right-offset</th>\n",
       "      <th>PageDef-bottom-offset</th>\n",
       "      <th>PageDef-header-offset</th>\n",
       "      <th>PageDef-footer-offset</th>\n",
       "      <th>PageBorderFill-flags</th>\n",
       "      <th>PageBorderFill-borderfill-id</th>\n",
       "      <th>FaceName-enname</th>\n",
       "      <th>FaceName-koname</th>\n",
       "      <th>...</th>\n",
       "      <th>IdMappings-symbol-fonts</th>\n",
       "      <th>IdMappings-tabdefs</th>\n",
       "      <th>IdMappings-other-fonts</th>\n",
       "      <th>IdMappings-charshapes</th>\n",
       "      <th>IdMappings-en-fonts</th>\n",
       "      <th>IdMappings-jp-fonts</th>\n",
       "      <th>IdMappings-ko-fonts</th>\n",
       "      <th>IdMappings-cn-fonts</th>\n",
       "      <th>IdMappings-jp-fonts</th>\n",
       "      <th>Numbering-auto-width</th>\n",
       "    </tr>\n",
       "  </thead>\n",
       "  <tbody>\n",
       "    <tr>\n",
       "      <th>6609</th>\n",
       "      <td>2835.0</td>\n",
       "      <td>5669.0</td>\n",
       "      <td>5669.0</td>\n",
       "      <td>2835.0</td>\n",
       "      <td>3600.0</td>\n",
       "      <td>3600.0</td>\n",
       "      <td>0.0</td>\n",
       "      <td>0.0</td>\n",
       "      <td>-0.181095</td>\n",
       "      <td>-0.348064</td>\n",
       "      <td>...</td>\n",
       "      <td>6.0</td>\n",
       "      <td>1.0</td>\n",
       "      <td>5.0</td>\n",
       "      <td>35.0</td>\n",
       "      <td>8.0</td>\n",
       "      <td>6.0</td>\n",
       "      <td>7.0</td>\n",
       "      <td>5.0</td>\n",
       "      <td>6.0</td>\n",
       "      <td>-2.0</td>\n",
       "    </tr>\n",
       "    <tr>\n",
       "      <th>4761</th>\n",
       "      <td>2834.0</td>\n",
       "      <td>5669.0</td>\n",
       "      <td>5669.0</td>\n",
       "      <td>2834.0</td>\n",
       "      <td>2834.0</td>\n",
       "      <td>2834.0</td>\n",
       "      <td>1.0</td>\n",
       "      <td>1.0</td>\n",
       "      <td>-0.635245</td>\n",
       "      <td>-0.617793</td>\n",
       "      <td>...</td>\n",
       "      <td>7.0</td>\n",
       "      <td>2.0</td>\n",
       "      <td>7.0</td>\n",
       "      <td>55.0</td>\n",
       "      <td>8.0</td>\n",
       "      <td>7.0</td>\n",
       "      <td>8.0</td>\n",
       "      <td>7.0</td>\n",
       "      <td>7.0</td>\n",
       "      <td>1.0</td>\n",
       "    </tr>\n",
       "    <tr>\n",
       "      <th>4678</th>\n",
       "      <td>2834.0</td>\n",
       "      <td>4988.0</td>\n",
       "      <td>5669.0</td>\n",
       "      <td>2834.0</td>\n",
       "      <td>4251.0</td>\n",
       "      <td>2834.0</td>\n",
       "      <td>1.0</td>\n",
       "      <td>1.0</td>\n",
       "      <td>1.293786</td>\n",
       "      <td>1.307508</td>\n",
       "      <td>...</td>\n",
       "      <td>15.0</td>\n",
       "      <td>7.0</td>\n",
       "      <td>11.0</td>\n",
       "      <td>164.0</td>\n",
       "      <td>19.0</td>\n",
       "      <td>14.0</td>\n",
       "      <td>14.0</td>\n",
       "      <td>15.0</td>\n",
       "      <td>14.0</td>\n",
       "      <td>1.0</td>\n",
       "    </tr>\n",
       "    <tr>\n",
       "      <th>4692</th>\n",
       "      <td>4251.0</td>\n",
       "      <td>5102.0</td>\n",
       "      <td>5102.0</td>\n",
       "      <td>2834.0</td>\n",
       "      <td>2834.0</td>\n",
       "      <td>2834.0</td>\n",
       "      <td>1.0</td>\n",
       "      <td>1.0</td>\n",
       "      <td>-0.507492</td>\n",
       "      <td>-0.346608</td>\n",
       "      <td>...</td>\n",
       "      <td>10.0</td>\n",
       "      <td>4.0</td>\n",
       "      <td>9.0</td>\n",
       "      <td>138.0</td>\n",
       "      <td>12.0</td>\n",
       "      <td>10.0</td>\n",
       "      <td>11.0</td>\n",
       "      <td>10.0</td>\n",
       "      <td>10.0</td>\n",
       "      <td>1.0</td>\n",
       "    </tr>\n",
       "    <tr>\n",
       "      <th>1339</th>\n",
       "      <td>4251.0</td>\n",
       "      <td>5669.0</td>\n",
       "      <td>5669.0</td>\n",
       "      <td>2834.0</td>\n",
       "      <td>2834.0</td>\n",
       "      <td>2834.0</td>\n",
       "      <td>1.0</td>\n",
       "      <td>1.0</td>\n",
       "      <td>-0.623479</td>\n",
       "      <td>-0.701699</td>\n",
       "      <td>...</td>\n",
       "      <td>9.0</td>\n",
       "      <td>5.0</td>\n",
       "      <td>8.0</td>\n",
       "      <td>83.0</td>\n",
       "      <td>10.0</td>\n",
       "      <td>9.0</td>\n",
       "      <td>9.0</td>\n",
       "      <td>9.0</td>\n",
       "      <td>9.0</td>\n",
       "      <td>1.0</td>\n",
       "    </tr>\n",
       "    <tr>\n",
       "      <th>...</th>\n",
       "      <td>...</td>\n",
       "      <td>...</td>\n",
       "      <td>...</td>\n",
       "      <td>...</td>\n",
       "      <td>...</td>\n",
       "      <td>...</td>\n",
       "      <td>...</td>\n",
       "      <td>...</td>\n",
       "      <td>...</td>\n",
       "      <td>...</td>\n",
       "      <td>...</td>\n",
       "      <td>...</td>\n",
       "      <td>...</td>\n",
       "      <td>...</td>\n",
       "      <td>...</td>\n",
       "      <td>...</td>\n",
       "      <td>...</td>\n",
       "      <td>...</td>\n",
       "      <td>...</td>\n",
       "      <td>...</td>\n",
       "      <td>...</td>\n",
       "    </tr>\n",
       "    <tr>\n",
       "      <th>664</th>\n",
       "      <td>4251.0</td>\n",
       "      <td>5669.0</td>\n",
       "      <td>5669.0</td>\n",
       "      <td>4251.0</td>\n",
       "      <td>2834.0</td>\n",
       "      <td>2834.0</td>\n",
       "      <td>1.0</td>\n",
       "      <td>1.0</td>\n",
       "      <td>2.013250</td>\n",
       "      <td>-0.119923</td>\n",
       "      <td>...</td>\n",
       "      <td>15.0</td>\n",
       "      <td>3.0</td>\n",
       "      <td>13.0</td>\n",
       "      <td>91.0</td>\n",
       "      <td>17.0</td>\n",
       "      <td>15.0</td>\n",
       "      <td>16.0</td>\n",
       "      <td>15.0</td>\n",
       "      <td>15.0</td>\n",
       "      <td>1.0</td>\n",
       "    </tr>\n",
       "    <tr>\n",
       "      <th>3276</th>\n",
       "      <td>3401.0</td>\n",
       "      <td>7086.0</td>\n",
       "      <td>7086.0</td>\n",
       "      <td>3401.0</td>\n",
       "      <td>3401.0</td>\n",
       "      <td>3401.0</td>\n",
       "      <td>1.0</td>\n",
       "      <td>0.0</td>\n",
       "      <td>0.116298</td>\n",
       "      <td>0.004082</td>\n",
       "      <td>...</td>\n",
       "      <td>13.0</td>\n",
       "      <td>7.0</td>\n",
       "      <td>8.0</td>\n",
       "      <td>100.0</td>\n",
       "      <td>17.0</td>\n",
       "      <td>13.0</td>\n",
       "      <td>15.0</td>\n",
       "      <td>13.0</td>\n",
       "      <td>13.0</td>\n",
       "      <td>-2.0</td>\n",
       "    </tr>\n",
       "    <tr>\n",
       "      <th>1318</th>\n",
       "      <td>5668.0</td>\n",
       "      <td>5669.0</td>\n",
       "      <td>5669.0</td>\n",
       "      <td>4252.0</td>\n",
       "      <td>4252.0</td>\n",
       "      <td>4252.0</td>\n",
       "      <td>1.0</td>\n",
       "      <td>0.0</td>\n",
       "      <td>0.001254</td>\n",
       "      <td>0.380006</td>\n",
       "      <td>...</td>\n",
       "      <td>9.0</td>\n",
       "      <td>5.0</td>\n",
       "      <td>8.0</td>\n",
       "      <td>74.0</td>\n",
       "      <td>9.0</td>\n",
       "      <td>9.0</td>\n",
       "      <td>7.0</td>\n",
       "      <td>9.0</td>\n",
       "      <td>9.0</td>\n",
       "      <td>1.0</td>\n",
       "    </tr>\n",
       "    <tr>\n",
       "      <th>723</th>\n",
       "      <td>3600.0</td>\n",
       "      <td>5669.0</td>\n",
       "      <td>5669.0</td>\n",
       "      <td>3600.0</td>\n",
       "      <td>3600.0</td>\n",
       "      <td>3600.0</td>\n",
       "      <td>1.0</td>\n",
       "      <td>1.0</td>\n",
       "      <td>-0.587904</td>\n",
       "      <td>-0.512702</td>\n",
       "      <td>...</td>\n",
       "      <td>9.0</td>\n",
       "      <td>3.0</td>\n",
       "      <td>8.0</td>\n",
       "      <td>64.0</td>\n",
       "      <td>9.0</td>\n",
       "      <td>9.0</td>\n",
       "      <td>8.0</td>\n",
       "      <td>9.0</td>\n",
       "      <td>9.0</td>\n",
       "      <td>1.0</td>\n",
       "    </tr>\n",
       "    <tr>\n",
       "      <th>2863</th>\n",
       "      <td>2834.0</td>\n",
       "      <td>5669.0</td>\n",
       "      <td>5669.0</td>\n",
       "      <td>2834.0</td>\n",
       "      <td>1417.0</td>\n",
       "      <td>1417.0</td>\n",
       "      <td>1.0</td>\n",
       "      <td>0.0</td>\n",
       "      <td>3.287242</td>\n",
       "      <td>3.176745</td>\n",
       "      <td>...</td>\n",
       "      <td>12.0</td>\n",
       "      <td>4.0</td>\n",
       "      <td>11.0</td>\n",
       "      <td>194.0</td>\n",
       "      <td>15.0</td>\n",
       "      <td>12.0</td>\n",
       "      <td>13.0</td>\n",
       "      <td>12.0</td>\n",
       "      <td>12.0</td>\n",
       "      <td>1.0</td>\n",
       "    </tr>\n",
       "  </tbody>\n",
       "</table>\n",
       "<p>4900 rows × 25 columns</p>\n",
       "</div>"
      ],
      "text/plain": [
       "      PageDef-top-offset  PageDef-left-offset  PageDef-right-offset  \\\n",
       "6609              2835.0               5669.0                5669.0   \n",
       "4761              2834.0               5669.0                5669.0   \n",
       "4678              2834.0               4988.0                5669.0   \n",
       "4692              4251.0               5102.0                5102.0   \n",
       "1339              4251.0               5669.0                5669.0   \n",
       "...                  ...                  ...                   ...   \n",
       "664               4251.0               5669.0                5669.0   \n",
       "3276              3401.0               7086.0                7086.0   \n",
       "1318              5668.0               5669.0                5669.0   \n",
       "723               3600.0               5669.0                5669.0   \n",
       "2863              2834.0               5669.0                5669.0   \n",
       "\n",
       "      PageDef-bottom-offset  PageDef-header-offset  PageDef-footer-offset  \\\n",
       "6609                 2835.0                 3600.0                 3600.0   \n",
       "4761                 2834.0                 2834.0                 2834.0   \n",
       "4678                 2834.0                 4251.0                 2834.0   \n",
       "4692                 2834.0                 2834.0                 2834.0   \n",
       "1339                 2834.0                 2834.0                 2834.0   \n",
       "...                     ...                    ...                    ...   \n",
       "664                  4251.0                 2834.0                 2834.0   \n",
       "3276                 3401.0                 3401.0                 3401.0   \n",
       "1318                 4252.0                 4252.0                 4252.0   \n",
       "723                  3600.0                 3600.0                 3600.0   \n",
       "2863                 2834.0                 1417.0                 1417.0   \n",
       "\n",
       "      PageBorderFill-flags  PageBorderFill-borderfill-id  FaceName-enname  \\\n",
       "6609                   0.0                           0.0        -0.181095   \n",
       "4761                   1.0                           1.0        -0.635245   \n",
       "4678                   1.0                           1.0         1.293786   \n",
       "4692                   1.0                           1.0        -0.507492   \n",
       "1339                   1.0                           1.0        -0.623479   \n",
       "...                    ...                           ...              ...   \n",
       "664                    1.0                           1.0         2.013250   \n",
       "3276                   1.0                           0.0         0.116298   \n",
       "1318                   1.0                           0.0         0.001254   \n",
       "723                    1.0                           1.0        -0.587904   \n",
       "2863                   1.0                           0.0         3.287242   \n",
       "\n",
       "      FaceName-koname  ...  IdMappings-symbol-fonts  IdMappings-tabdefs  \\\n",
       "6609        -0.348064  ...                      6.0                 1.0   \n",
       "4761        -0.617793  ...                      7.0                 2.0   \n",
       "4678         1.307508  ...                     15.0                 7.0   \n",
       "4692        -0.346608  ...                     10.0                 4.0   \n",
       "1339        -0.701699  ...                      9.0                 5.0   \n",
       "...               ...  ...                      ...                 ...   \n",
       "664         -0.119923  ...                     15.0                 3.0   \n",
       "3276         0.004082  ...                     13.0                 7.0   \n",
       "1318         0.380006  ...                      9.0                 5.0   \n",
       "723         -0.512702  ...                      9.0                 3.0   \n",
       "2863         3.176745  ...                     12.0                 4.0   \n",
       "\n",
       "      IdMappings-other-fonts  IdMappings-charshapes  IdMappings-en-fonts  \\\n",
       "6609                     5.0                   35.0                  8.0   \n",
       "4761                     7.0                   55.0                  8.0   \n",
       "4678                    11.0                  164.0                 19.0   \n",
       "4692                     9.0                  138.0                 12.0   \n",
       "1339                     8.0                   83.0                 10.0   \n",
       "...                      ...                    ...                  ...   \n",
       "664                     13.0                   91.0                 17.0   \n",
       "3276                     8.0                  100.0                 17.0   \n",
       "1318                     8.0                   74.0                  9.0   \n",
       "723                      8.0                   64.0                  9.0   \n",
       "2863                    11.0                  194.0                 15.0   \n",
       "\n",
       "      IdMappings-jp-fonts  IdMappings-ko-fonts  IdMappings-cn-fonts  \\\n",
       "6609                  6.0                  7.0                  5.0   \n",
       "4761                  7.0                  8.0                  7.0   \n",
       "4678                 14.0                 14.0                 15.0   \n",
       "4692                 10.0                 11.0                 10.0   \n",
       "1339                  9.0                  9.0                  9.0   \n",
       "...                   ...                  ...                  ...   \n",
       "664                  15.0                 16.0                 15.0   \n",
       "3276                 13.0                 15.0                 13.0   \n",
       "1318                  9.0                  7.0                  9.0   \n",
       "723                   9.0                  8.0                  9.0   \n",
       "2863                 12.0                 13.0                 12.0   \n",
       "\n",
       "      IdMappings-jp-fonts  Numbering-auto-width  \n",
       "6609                  6.0                  -2.0  \n",
       "4761                  7.0                   1.0  \n",
       "4678                 14.0                   1.0  \n",
       "4692                 10.0                   1.0  \n",
       "1339                  9.0                   1.0  \n",
       "...                   ...                   ...  \n",
       "664                  15.0                   1.0  \n",
       "3276                 13.0                  -2.0  \n",
       "1318                  9.0                   1.0  \n",
       "723                   9.0                   1.0  \n",
       "2863                 12.0                   1.0  \n",
       "\n",
       "[4900 rows x 25 columns]"
      ]
     },
     "execution_count": 31,
     "metadata": {},
     "output_type": "execute_result"
    }
   ],
   "source": [
    "x_train"
   ]
  },
  {
   "cell_type": "markdown",
   "metadata": {},
   "source": [
    "# Cross validate model with Kfold stratified cross val"
   ]
  },
  {
   "cell_type": "code",
   "execution_count": 32,
   "metadata": {},
   "outputs": [],
   "source": [
    "from sklearn.model_selection import StratifiedKFold\n",
    "\n",
    "kfold = StratifiedKFold(n_splits=10)\n",
    "\n",
    "# Modeling step Test differents algorithms \n",
    "random_state = 42\n",
    "classifiers = []\n",
    "classifiers.append(SVC(random_state=random_state))\n",
    "classifiers.append(DecisionTreeClassifier(random_state=random_state, criterion='gini', max_features=\"sqrt\", min_samples_leaf=1, min_samples_split=2))\n",
    "classifiers.append(RandomForestClassifier(random_state=random_state, criterion='gini', max_features=\"sqrt\", min_samples_leaf=1, min_samples_split=2,  n_estimators=100))\n",
    "classifiers.append(ExtraTreesClassifier(random_state=random_state, criterion='gini', max_features=\"sqrt\", min_samples_leaf=1, min_samples_split=2,  n_estimators=100))\n",
    "# classifiers.append(AdaBoostClassifier(random_state=random_state,learning_rate=0.1))\n",
    "# classifiers.append(GradientBoostingClassifier(random_state=random_state))\n",
    "# classifiers.append(MLPClassifier(random_state=random_state))\n",
    "# classifiers.append(KNeighborsClassifier())\n",
    "# classifiers.append(LogisticRegression(random_state = random_state))\n",
    "# classifiers.append(LinearDiscriminantAnalysis())\n",
    "# classifiers.append(BernoulliNB())"
   ]
  },
  {
   "cell_type": "code",
   "execution_count": 33,
   "metadata": {},
   "outputs": [],
   "source": [
    "\n",
    "acc_cv_results = []\n",
    "precision_cv_results = []\n",
    "recall_cv_results = []\n",
    "f1_score_cv_results = []\n",
    "\n",
    "for classifier in classifiers :\n",
    "    acc_cv_results.append(cross_val_score(classifier, x_train, y_train, scoring='accuracy' , cv = kfold, n_jobs=-1))\n",
    "    precision_cv_results.append(cross_val_score(classifier, x_train, y_train, scoring='precision_macro' , cv = kfold, n_jobs=-1))\n",
    "    recall_cv_results.append(cross_val_score(classifier, x_train, y_train, scoring='recall_macro' , cv = kfold, n_jobs=-1))\n",
    "    f1_score_cv_results.append(cross_val_score(classifier, x_train, y_train, scoring='f1_macro' , cv = kfold, n_jobs=-1))\n"
   ]
  },
  {
   "cell_type": "markdown",
   "metadata": {},
   "source": [
    "## 중요도 상위 25개의 Feature 를 고려한 정확도"
   ]
  },
  {
   "cell_type": "code",
   "execution_count": 34,
   "metadata": {},
   "outputs": [],
   "source": [
    "\n",
    "acc_cv_means = []\n",
    "acc_cv_std = []\n",
    "for cv_result in acc_cv_results:\n",
    "    acc_cv_means.append(cv_result.mean())\n",
    "    acc_cv_std.append(cv_result.std())\n",
    "acc_cv_res = pd.DataFrame({\"CrossValMeans\":acc_cv_means,\"CrossValerrors\": acc_cv_std,\"Algorithm\":[\"SVM\",\"DecisionTree\",\"RandomForest\",\"ExtraTrees\"]})"
   ]
  },
  {
   "cell_type": "code",
   "execution_count": 35,
   "metadata": {},
   "outputs": [
    {
     "name": "stderr",
     "output_type": "stream",
     "text": [
      "c:\\Users\\User\\AppData\\Local\\Programs\\Python\\Python37\\lib\\site-packages\\seaborn\\_decorators.py:43: FutureWarning: Pass the following variables as keyword args: x, y. From version 0.12, the only valid positional argument will be `data`, and passing other arguments without an explicit keyword will result in an error or misinterpretation.\n",
      "  FutureWarning\n"
     ]
    },
    {
     "data": {
      "image/png": "[encoded data removed]",
      "text/plain": [
       "<Figure size 432x288 with 1 Axes>"
      ]
     },
     "metadata": {
      "needs_background": "light"
     },
     "output_type": "display_data"
    }
   ],
   "source": [
    "g = sns.barplot(\"CrossValMeans\",\"Algorithm\", data = acc_cv_res, palette=\"Set3\",orient = \"h\",**{'xerr':acc_cv_std})\n",
    "g.set_xlabel(\"Mean Accuracy\")\n",
    "g = g.set_title(\"Cross validation scores\")"
   ]
  },
  {
   "cell_type": "code",
   "execution_count": 36,
   "metadata": {},
   "outputs": [
    {
     "data": {
      "text/html": [
       "<div>\n",
       "<style scoped>\n",
       "    .dataframe tbody tr th:only-of-type {\n",
       "        vertical-align: middle;\n",
       "    }\n",
       "\n",
       "    .dataframe tbody tr th {\n",
       "        vertical-align: top;\n",
       "    }\n",
       "\n",
       "    .dataframe thead th {\n",
       "        text-align: right;\n",
       "    }\n",
       "</style>\n",
       "<table border=\"1\" class=\"dataframe\">\n",
       "  <thead>\n",
       "    <tr style=\"text-align: right;\">\n",
       "      <th></th>\n",
       "      <th>CrossValMeans</th>\n",
       "      <th>CrossValerrors</th>\n",
       "      <th>Algorithm</th>\n",
       "    </tr>\n",
       "  </thead>\n",
       "  <tbody>\n",
       "    <tr>\n",
       "      <th>0</th>\n",
       "      <td>0.634286</td>\n",
       "      <td>0.021027</td>\n",
       "      <td>SVM</td>\n",
       "    </tr>\n",
       "    <tr>\n",
       "      <th>1</th>\n",
       "      <td>0.883469</td>\n",
       "      <td>0.008632</td>\n",
       "      <td>DecisionTree</td>\n",
       "    </tr>\n",
       "    <tr>\n",
       "      <th>2</th>\n",
       "      <td>0.952449</td>\n",
       "      <td>0.007529</td>\n",
       "      <td>RandomForest</td>\n",
       "    </tr>\n",
       "    <tr>\n",
       "      <th>3</th>\n",
       "      <td>0.950000</td>\n",
       "      <td>0.010376</td>\n",
       "      <td>ExtraTrees</td>\n",
       "    </tr>\n",
       "  </tbody>\n",
       "</table>\n",
       "</div>"
      ],
      "text/plain": [
       "   CrossValMeans  CrossValerrors     Algorithm\n",
       "0       0.634286        0.021027           SVM\n",
       "1       0.883469        0.008632  DecisionTree\n",
       "2       0.952449        0.007529  RandomForest\n",
       "3       0.950000        0.010376    ExtraTrees"
      ]
     },
     "execution_count": 36,
     "metadata": {},
     "output_type": "execute_result"
    }
   ],
   "source": [
    "acc_cv_res"
   ]
  },
  {
   "cell_type": "markdown",
   "metadata": {},
   "source": [
    "## 중요도 상위 25개의 Feature를 고려한 precision"
   ]
  },
  {
   "cell_type": "code",
   "execution_count": 37,
   "metadata": {},
   "outputs": [],
   "source": [
    "precision_cv_means = []\n",
    "precision_cv_std = []\n",
    "for cv_result in precision_cv_results:\n",
    "    precision_cv_means.append(cv_result.mean())\n",
    "    precision_cv_std.append(cv_result.std())\n",
    "precision_cv_res = pd.DataFrame({\"CrossValMeans\":precision_cv_means,\"CrossValerrors\": precision_cv_std,\"Algorithm\":[\"SVM\",\"DecisionTree\",\"RandomForest\",\"ExtraTrees\"]})"
   ]
  },
  {
   "cell_type": "code",
   "execution_count": 38,
   "metadata": {},
   "outputs": [
    {
     "name": "stderr",
     "output_type": "stream",
     "text": [
      "c:\\Users\\User\\AppData\\Local\\Programs\\Python\\Python37\\lib\\site-packages\\seaborn\\_decorators.py:43: FutureWarning: Pass the following variables as keyword args: x, y. From version 0.12, the only valid positional argument will be `data`, and passing other arguments without an explicit keyword will result in an error or misinterpretation.\n",
      "  FutureWarning\n"
     ]
    },
    {
     "data": {
      "image/png": "[encoded data removed]",
      "text/plain": [
       "<Figure size 432x288 with 1 Axes>"
      ]
     },
     "metadata": {
      "needs_background": "light"
     },
     "output_type": "display_data"
    }
   ],
   "source": [
    "g = sns.barplot(\"CrossValMeans\",\"Algorithm\", data = precision_cv_res, palette=\"Set3\",orient = \"h\",**{'xerr':precision_cv_std})\n",
    "g.set_xlabel(\"Mean Accuracy\")\n",
    "g = g.set_title(\"Cross validation scores\")"
   ]
  },
  {
   "cell_type": "code",
   "execution_count": 39,
   "metadata": {},
   "outputs": [
    {
     "data": {
      "text/html": [
       "<div>\n",
       "<style scoped>\n",
       "    .dataframe tbody tr th:only-of-type {\n",
       "        vertical-align: middle;\n",
       "    }\n",
       "\n",
       "    .dataframe tbody tr th {\n",
       "        vertical-align: top;\n",
       "    }\n",
       "\n",
       "    .dataframe thead th {\n",
       "        text-align: right;\n",
       "    }\n",
       "</style>\n",
       "<table border=\"1\" class=\"dataframe\">\n",
       "  <thead>\n",
       "    <tr style=\"text-align: right;\">\n",
       "      <th></th>\n",
       "      <th>CrossValMeans</th>\n",
       "      <th>CrossValerrors</th>\n",
       "      <th>Algorithm</th>\n",
       "    </tr>\n",
       "  </thead>\n",
       "  <tbody>\n",
       "    <tr>\n",
       "      <th>0</th>\n",
       "      <td>0.693100</td>\n",
       "      <td>0.023627</td>\n",
       "      <td>SVM</td>\n",
       "    </tr>\n",
       "    <tr>\n",
       "      <th>1</th>\n",
       "      <td>0.884964</td>\n",
       "      <td>0.009459</td>\n",
       "      <td>DecisionTree</td>\n",
       "    </tr>\n",
       "    <tr>\n",
       "      <th>2</th>\n",
       "      <td>0.953566</td>\n",
       "      <td>0.007235</td>\n",
       "      <td>RandomForest</td>\n",
       "    </tr>\n",
       "    <tr>\n",
       "      <th>3</th>\n",
       "      <td>0.950972</td>\n",
       "      <td>0.010178</td>\n",
       "      <td>ExtraTrees</td>\n",
       "    </tr>\n",
       "  </tbody>\n",
       "</table>\n",
       "</div>"
      ],
      "text/plain": [
       "   CrossValMeans  CrossValerrors     Algorithm\n",
       "0       0.693100        0.023627           SVM\n",
       "1       0.884964        0.009459  DecisionTree\n",
       "2       0.953566        0.007235  RandomForest\n",
       "3       0.950972        0.010178    ExtraTrees"
      ]
     },
     "execution_count": 39,
     "metadata": {},
     "output_type": "execute_result"
    }
   ],
   "source": [
    "precision_cv_res"
   ]
  },
  {
   "cell_type": "markdown",
   "metadata": {},
   "source": [
    "## 중요도 상위 25개의 Recall"
   ]
  },
  {
   "cell_type": "code",
   "execution_count": 40,
   "metadata": {},
   "outputs": [],
   "source": [
    "recall_cv_means = []\n",
    "recall_cv_std = []\n",
    "for cv_result in recall_cv_results:\n",
    "    recall_cv_means.append(cv_result.mean())\n",
    "    recall_cv_std.append(cv_result.std())\n",
    "recall_cv_res = pd.DataFrame({\"CrossValMeans\":recall_cv_means,\"CrossValerrors\": recall_cv_std,\"Algorithm\":[\"SVM\",\"DecisionTree\",\"RandomForest\",\"ExtraTrees\"]})\n"
   ]
  },
  {
   "cell_type": "code",
   "execution_count": 41,
   "metadata": {},
   "outputs": [
    {
     "name": "stderr",
     "output_type": "stream",
     "text": [
      "c:\\Users\\User\\AppData\\Local\\Programs\\Python\\Python37\\lib\\site-packages\\seaborn\\_decorators.py:43: FutureWarning: Pass the following variables as keyword args: x, y. From version 0.12, the only valid positional argument will be `data`, and passing other arguments without an explicit keyword will result in an error or misinterpretation.\n",
      "  FutureWarning\n"
     ]
    },
    {
     "data": {
      "image/png": "[encoded data removed]",
      "text/plain": [
       "<Figure size 432x288 with 1 Axes>"
      ]
     },
     "metadata": {
      "needs_background": "light"
     },
     "output_type": "display_data"
    }
   ],
   "source": [
    "g = sns.barplot(\"CrossValMeans\",\"Algorithm\", data = recall_cv_res, palette=\"Set3\",orient = \"h\",**{'xerr':recall_cv_std})\n",
    "g.set_xlabel(\"Mean Accuracy\")\n",
    "g = g.set_title(\"Cross validation scores\")"
   ]
  },
  {
   "cell_type": "code",
   "execution_count": 42,
   "metadata": {},
   "outputs": [
    {
     "data": {
      "text/html": [
       "<div>\n",
       "<style scoped>\n",
       "    .dataframe tbody tr th:only-of-type {\n",
       "        vertical-align: middle;\n",
       "    }\n",
       "\n",
       "    .dataframe tbody tr th {\n",
       "        vertical-align: top;\n",
       "    }\n",
       "\n",
       "    .dataframe thead th {\n",
       "        text-align: right;\n",
       "    }\n",
       "</style>\n",
       "<table border=\"1\" class=\"dataframe\">\n",
       "  <thead>\n",
       "    <tr style=\"text-align: right;\">\n",
       "      <th></th>\n",
       "      <th>CrossValMeans</th>\n",
       "      <th>CrossValerrors</th>\n",
       "      <th>Algorithm</th>\n",
       "    </tr>\n",
       "  </thead>\n",
       "  <tbody>\n",
       "    <tr>\n",
       "      <th>0</th>\n",
       "      <td>0.633282</td>\n",
       "      <td>0.021361</td>\n",
       "      <td>SVM</td>\n",
       "    </tr>\n",
       "    <tr>\n",
       "      <th>1</th>\n",
       "      <td>0.883431</td>\n",
       "      <td>0.008580</td>\n",
       "      <td>DecisionTree</td>\n",
       "    </tr>\n",
       "    <tr>\n",
       "      <th>2</th>\n",
       "      <td>0.952419</td>\n",
       "      <td>0.007597</td>\n",
       "      <td>RandomForest</td>\n",
       "    </tr>\n",
       "    <tr>\n",
       "      <th>3</th>\n",
       "      <td>0.950055</td>\n",
       "      <td>0.010467</td>\n",
       "      <td>ExtraTrees</td>\n",
       "    </tr>\n",
       "  </tbody>\n",
       "</table>\n",
       "</div>"
      ],
      "text/plain": [
       "   CrossValMeans  CrossValerrors     Algorithm\n",
       "0       0.633282        0.021361           SVM\n",
       "1       0.883431        0.008580  DecisionTree\n",
       "2       0.952419        0.007597  RandomForest\n",
       "3       0.950055        0.010467    ExtraTrees"
      ]
     },
     "execution_count": 42,
     "metadata": {},
     "output_type": "execute_result"
    }
   ],
   "source": [
    "recall_cv_res"
   ]
  },
  {
   "cell_type": "markdown",
   "metadata": {},
   "source": [
    "## 중요도 상위 25개의 f1_score"
   ]
  },
  {
   "cell_type": "code",
   "execution_count": 43,
   "metadata": {},
   "outputs": [],
   "source": [
    "f1_cv_means = []\n",
    "f1_cv_std = []\n",
    "for cv_result in f1_score_cv_results:\n",
    "    f1_cv_means.append(cv_result.mean())\n",
    "    f1_cv_std.append(cv_result.std())\n",
    "f1_cv_res = pd.DataFrame({\"CrossValMeans\":f1_cv_means,\"CrossValerrors\": f1_cv_std,\"Algorithm\":[\"SVM\",\"DecisionTree\",\"RandomForest\",\"ExtraTrees\"]})\n"
   ]
  },
  {
   "cell_type": "code",
   "execution_count": 44,
   "metadata": {},
   "outputs": [
    {
     "name": "stderr",
     "output_type": "stream",
     "text": [
      "c:\\Users\\User\\AppData\\Local\\Programs\\Python\\Python37\\lib\\site-packages\\seaborn\\_decorators.py:43: FutureWarning: Pass the following variables as keyword args: x, y. From version 0.12, the only valid positional argument will be `data`, and passing other arguments without an explicit keyword will result in an error or misinterpretation.\n",
      "  FutureWarning\n"
     ]
    },
    {
     "data": {
      "image/png": "[encoded data removed]",
      "text/plain": [
       "<Figure size 432x288 with 1 Axes>"
      ]
     },
     "metadata": {
      "needs_background": "light"
     },
     "output_type": "display_data"
    }
   ],
   "source": [
    "g = sns.barplot(\"CrossValMeans\",\"Algorithm\", data = f1_cv_res, palette=\"Set3\",orient = \"h\",**{'xerr':f1_cv_std})\n",
    "g.set_xlabel(\"Mean Accuracy\")\n",
    "g = g.set_title(\"Cross validation scores\")"
   ]
  },
  {
   "cell_type": "code",
   "execution_count": 45,
   "metadata": {},
   "outputs": [
    {
     "data": {
      "text/html": [
       "<div>\n",
       "<style scoped>\n",
       "    .dataframe tbody tr th:only-of-type {\n",
       "        vertical-align: middle;\n",
       "    }\n",
       "\n",
       "    .dataframe tbody tr th {\n",
       "        vertical-align: top;\n",
       "    }\n",
       "\n",
       "    .dataframe thead th {\n",
       "        text-align: right;\n",
       "    }\n",
       "</style>\n",
       "<table border=\"1\" class=\"dataframe\">\n",
       "  <thead>\n",
       "    <tr style=\"text-align: right;\">\n",
       "      <th></th>\n",
       "      <th>CrossValMeans</th>\n",
       "      <th>CrossValerrors</th>\n",
       "      <th>Algorithm</th>\n",
       "    </tr>\n",
       "  </thead>\n",
       "  <tbody>\n",
       "    <tr>\n",
       "      <th>0</th>\n",
       "      <td>0.626131</td>\n",
       "      <td>0.023107</td>\n",
       "      <td>SVM</td>\n",
       "    </tr>\n",
       "    <tr>\n",
       "      <th>1</th>\n",
       "      <td>0.883539</td>\n",
       "      <td>0.008930</td>\n",
       "      <td>DecisionTree</td>\n",
       "    </tr>\n",
       "    <tr>\n",
       "      <th>2</th>\n",
       "      <td>0.952640</td>\n",
       "      <td>0.007525</td>\n",
       "      <td>RandomForest</td>\n",
       "    </tr>\n",
       "    <tr>\n",
       "      <th>3</th>\n",
       "      <td>0.950146</td>\n",
       "      <td>0.010443</td>\n",
       "      <td>ExtraTrees</td>\n",
       "    </tr>\n",
       "  </tbody>\n",
       "</table>\n",
       "</div>"
      ],
      "text/plain": [
       "   CrossValMeans  CrossValerrors     Algorithm\n",
       "0       0.626131        0.023107           SVM\n",
       "1       0.883539        0.008930  DecisionTree\n",
       "2       0.952640        0.007525  RandomForest\n",
       "3       0.950146        0.010443    ExtraTrees"
      ]
     },
     "execution_count": 45,
     "metadata": {},
     "output_type": "execute_result"
    }
   ],
   "source": [
    "f1_cv_res"
   ]
  },
  {
   "cell_type": "markdown",
   "metadata": {},
   "source": [
    "# 개별 알고리즘 적용"
   ]
  },
  {
   "cell_type": "markdown",
   "metadata": {},
   "source": [
    "## RandomForest "
   ]
  },
  {
   "cell_type": "code",
   "execution_count": 46,
   "metadata": {},
   "outputs": [
    {
     "name": "stdout",
     "output_type": "stream",
     "text": [
      "Accuracy is:  0.9514285714285714\n",
      "precision_score 0.9512514105609451\n",
      "recall_score 0.951226464450364\n",
      "f1_score 0.9512109764889478\n",
      "              precision    recall  f1-score   support\n",
      "\n",
      "           A       0.94      0.96      0.95       291\n",
      "           B       0.93      0.94      0.94       311\n",
      "           C       0.95      0.94      0.95       323\n",
      "           D       0.96      0.95      0.95       277\n",
      "           E       0.92      0.92      0.92       286\n",
      "           F       0.97      0.97      0.97       301\n",
      "           G       0.99      0.98      0.98       311\n",
      "\n",
      "    accuracy                           0.95      2100\n",
      "   macro avg       0.95      0.95      0.95      2100\n",
      "weighted avg       0.95      0.95      0.95      2100\n",
      "\n"
     ]
    },
    {
     "name": "stderr",
     "output_type": "stream",
     "text": [
      "c:\\Users\\User\\AppData\\Local\\Programs\\Python\\Python37\\lib\\site-packages\\sklearn\\utils\\deprecation.py:87: FutureWarning: Function plot_confusion_matrix is deprecated; Function `plot_confusion_matrix` is deprecated in 1.0 and will be removed in 1.2. Use one of the class methods: ConfusionMatrixDisplay.from_predictions or ConfusionMatrixDisplay.from_estimator.\n",
      "  warnings.warn(msg, category=FutureWarning)\n"
     ]
    },
    {
     "data": {
      "text/plain": [
       "Text(0.5, 1.0, 'RandomForest')"
      ]
     },
     "execution_count": 46,
     "metadata": {},
     "output_type": "execute_result"
    },
    {
     "data": {
      "image/png": "[encoded data removed]",
      "text/plain": [
       "<Figure size 432x288 with 2 Axes>"
      ]
     },
     "metadata": {
      "needs_background": "light"
     },
     "output_type": "display_data"
    }
   ],
   "source": [
    "model = RandomForestClassifier(random_state=42, criterion='gini', max_features=\"sqrt\", min_samples_leaf=1, min_samples_split=2,  n_estimators=100)    \n",
    "clr_rf = model.fit(x_train,y_train)\n",
    "\n",
    "ac = accuracy_score(y_test,model.predict(x_test))\n",
    "print('Accuracy is: ',ac)\n",
    "print(\"precision_score\",precision_score(y_test,model.predict(x_test), average='macro') )\n",
    "print(\"recall_score\",recall_score(y_test,model.predict(x_test), average='macro')) \n",
    "print(\"f1_score\",f1_score(y_test,model.predict(x_test), average='macro')) \n",
    "y_label =  ['A','B','C','D','E','F','G']\n",
    "print(classification_report(y_test, model.predict(x_test), target_names=y_label))\n",
    "\n",
    "from sklearn.metrics import plot_confusion_matrix\n",
    "plot = plot_confusion_matrix(model, # 분류 모델\n",
    "                             x_test, y_test, # 예측 데이터와 예측값의 정답(y_true)\n",
    "                             cmap=plt.cm.Blues, # 컬러맵(plt.cm.Reds, plt.cm.rainbow 등이 있음)\n",
    "                             display_labels=y_label, # 표에 표시할 labels\n",
    "                             normalize=None) # 'true', 'pred', 'all' 중에서 지정 가능. default=None\n",
    "\n",
    "plot.ax_.set_title('RandomForest')"
   ]
  },
  {
   "cell_type": "markdown",
   "metadata": {},
   "source": [
    "## ExtraTree"
   ]
  },
  {
   "cell_type": "code",
   "execution_count": 47,
   "metadata": {},
   "outputs": [
    {
     "name": "stdout",
     "output_type": "stream",
     "text": [
      "Accuracy is:  0.9471428571428572\n",
      "precision_score 0.946900982996677\n",
      "recall_score 0.946756900853189\n",
      "f1_score 0.9467739183264533\n",
      "              precision    recall  f1-score   support\n",
      "\n",
      "           A       0.94      0.96      0.95       291\n",
      "           B       0.95      0.94      0.94       311\n",
      "           C       0.94      0.94      0.94       323\n",
      "           D       0.97      0.95      0.96       277\n",
      "           E       0.90      0.89      0.89       286\n",
      "           F       0.95      0.96      0.96       301\n",
      "           G       0.97      0.99      0.98       311\n",
      "\n",
      "    accuracy                           0.95      2100\n",
      "   macro avg       0.95      0.95      0.95      2100\n",
      "weighted avg       0.95      0.95      0.95      2100\n",
      "\n"
     ]
    },
    {
     "name": "stderr",
     "output_type": "stream",
     "text": [
      "c:\\Users\\User\\AppData\\Local\\Programs\\Python\\Python37\\lib\\site-packages\\sklearn\\utils\\deprecation.py:87: FutureWarning: Function plot_confusion_matrix is deprecated; Function `plot_confusion_matrix` is deprecated in 1.0 and will be removed in 1.2. Use one of the class methods: ConfusionMatrixDisplay.from_predictions or ConfusionMatrixDisplay.from_estimator.\n",
      "  warnings.warn(msg, category=FutureWarning)\n"
     ]
    },
    {
     "data": {
      "text/plain": [
       "Text(0.5, 1.0, 'ExtraTree')"
      ]
     },
     "execution_count": 47,
     "metadata": {},
     "output_type": "execute_result"
    },
    {
     "data": {
      "image/png": "[encoded data removed]",
      "text/plain": [
       "<Figure size 432x288 with 2 Axes>"
      ]
     },
     "metadata": {
      "needs_background": "light"
     },
     "output_type": "display_data"
    }
   ],
   "source": [
    "model = ExtraTreesClassifier(random_state=42, criterion='gini', \n",
    "max_features=\"sqrt\", min_samples_leaf=1, min_samples_split=2,  n_estimators=100)    \n",
    "clr_rf = model.fit(x_train,y_train)\n",
    "\n",
    "ac = accuracy_score(y_test,model.predict(x_test))\n",
    "print('Accuracy is: ',ac)\n",
    "print(\"precision_score\",precision_score(y_test,model.predict(x_test), average='macro') )\n",
    "print(\"recall_score\",recall_score(y_test,model.predict(x_test), average='macro')) \n",
    "print(\"f1_score\",f1_score(y_test,model.predict(x_test), average='macro')) \n",
    "# cm = confusion_matrix(y_test,model.predict(x_test))\n",
    "# sns.heatmap(cm,annot=True,fmt=\"d\")\n",
    "\n",
    "y_label =  ['A','B','C','D','E','F','G']\n",
    "print(classification_report(y_test, model.predict(x_test), target_names=y_label))\n",
    "\n",
    "from sklearn.metrics import plot_confusion_matrix\n",
    "plot = plot_confusion_matrix(model, # 분류 모델\n",
    "                             x_test, y_test, # 예측 데이터와 예측값의 정답(y_true)\n",
    "                             cmap=plt.cm.Blues, # 컬러맵(plt.cm.Reds, plt.cm.rainbow 등이 있음)\n",
    "                             display_labels=y_label, # 표에 표시할 labels\n",
    "                             normalize=None) # 'true', 'pred', 'all' 중에서 지정 가능. default=None\n",
    "\n",
    "plot.ax_.set_title('ExtraTree')"
   ]
  },
  {
   "cell_type": "markdown",
   "metadata": {},
   "source": [
    "## DecisionTree"
   ]
  },
  {
   "cell_type": "code",
   "execution_count": 48,
   "metadata": {},
   "outputs": [
    {
     "name": "stdout",
     "output_type": "stream",
     "text": [
      "Accuracy is:  0.9047619047619048\n",
      "precision_score 0.9046134787818054\n",
      "recall_score 0.904401397763321\n",
      "f1_score 0.9044724910316101\n",
      "              precision    recall  f1-score   support\n",
      "\n",
      "           A       0.89      0.90      0.90       291\n",
      "           B       0.88      0.87      0.88       311\n",
      "           C       0.89      0.91      0.90       323\n",
      "           D       0.92      0.92      0.92       277\n",
      "           E       0.85      0.85      0.85       286\n",
      "           F       0.94      0.92      0.93       301\n",
      "           G       0.96      0.96      0.96       311\n",
      "\n",
      "    accuracy                           0.90      2100\n",
      "   macro avg       0.90      0.90      0.90      2100\n",
      "weighted avg       0.90      0.90      0.90      2100\n",
      "\n"
     ]
    },
    {
     "name": "stderr",
     "output_type": "stream",
     "text": [
      "c:\\Users\\User\\AppData\\Local\\Programs\\Python\\Python37\\lib\\site-packages\\sklearn\\utils\\deprecation.py:87: FutureWarning: Function plot_confusion_matrix is deprecated; Function `plot_confusion_matrix` is deprecated in 1.0 and will be removed in 1.2. Use one of the class methods: ConfusionMatrixDisplay.from_predictions or ConfusionMatrixDisplay.from_estimator.\n",
      "  warnings.warn(msg, category=FutureWarning)\n"
     ]
    },
    {
     "data": {
      "text/plain": [
       "Text(0.5, 1.0, 'DecisionTree')"
      ]
     },
     "execution_count": 48,
     "metadata": {},
     "output_type": "execute_result"
    },
    {
     "data": {
      "image/png": "[encoded data removed]",
      "text/plain": [
       "<Figure size 432x288 with 2 Axes>"
      ]
     },
     "metadata": {
      "needs_background": "light"
     },
     "output_type": "display_data"
    }
   ],
   "source": [
    "model = DecisionTreeClassifier(random_state=42)    \n",
    "clr_rf = model.fit(x_train,y_train)\n",
    "\n",
    "ac = accuracy_score(y_test,model.predict(x_test))\n",
    "print('Accuracy is: ',ac)\n",
    "print(\"precision_score\",precision_score(y_test,model.predict(x_test), average='macro') )\n",
    "print(\"recall_score\",recall_score(y_test,model.predict(x_test), average='macro')) \n",
    "print(\"f1_score\",f1_score(y_test,model.predict(x_test), average='macro')) \n",
    "# cm = confusion_matrix(y_test,model.predict(x_test))\n",
    "# sns.heatmap(cm,annot=True,fmt=\"d\")\n",
    "y_label =  ['A','B','C','D','E','F','G']\n",
    "print(classification_report(y_test, model.predict(x_test), target_names=y_label))\n",
    "\n",
    "from sklearn.metrics import plot_confusion_matrix\n",
    "plot = plot_confusion_matrix(model, # 분류 모델\n",
    "                             x_test, y_test, # 예측 데이터와 예측값의 정답(y_true)\n",
    "                             cmap=plt.cm.Blues, # 컬러맵(plt.cm.Reds, plt.cm.rainbow 등이 있음)\n",
    "                             display_labels=y_label, # 표에 표시할 labels\n",
    "                             normalize=None) # 'true', 'pred', 'all' 중에서 지정 가능. default=None\n",
    "\n",
    "plot.ax_.set_title('DecisionTree')"
   ]
  },
  {
   "cell_type": "markdown",
   "metadata": {},
   "source": [
    "## SVM"
   ]
  },
  {
   "cell_type": "code",
   "execution_count": 49,
   "metadata": {},
   "outputs": [
    {
     "name": "stdout",
     "output_type": "stream",
     "text": [
      "Accuracy is:  0.638095238095238\n",
      "precision_score 0.6873337211603356\n",
      "recall_score 0.6397475593056684\n",
      "f1_score 0.6314910859541818\n",
      "              precision    recall  f1-score   support\n",
      "\n",
      "           A       0.60      0.48      0.53       291\n",
      "           B       0.75      0.73      0.74       311\n",
      "           C       0.87      0.43      0.58       323\n",
      "           D       0.83      0.88      0.86       277\n",
      "           E       0.76      0.37      0.50       286\n",
      "           F       0.50      0.90      0.64       301\n",
      "           G       0.50      0.69      0.58       311\n",
      "\n",
      "    accuracy                           0.64      2100\n",
      "   macro avg       0.69      0.64      0.63      2100\n",
      "weighted avg       0.69      0.64      0.63      2100\n",
      "\n"
     ]
    },
    {
     "name": "stderr",
     "output_type": "stream",
     "text": [
      "c:\\Users\\User\\AppData\\Local\\Programs\\Python\\Python37\\lib\\site-packages\\sklearn\\utils\\deprecation.py:87: FutureWarning: Function plot_confusion_matrix is deprecated; Function `plot_confusion_matrix` is deprecated in 1.0 and will be removed in 1.2. Use one of the class methods: ConfusionMatrixDisplay.from_predictions or ConfusionMatrixDisplay.from_estimator.\n",
      "  warnings.warn(msg, category=FutureWarning)\n"
     ]
    },
    {
     "data": {
      "text/plain": [
       "Text(0.5, 1.0, 'SVM')"
      ]
     },
     "execution_count": 49,
     "metadata": {},
     "output_type": "execute_result"
    },
    {
     "data": {
      "image/png": "[encoded data removed]",
      "text/plain": [
       "<Figure size 432x288 with 2 Axes>"
      ]
     },
     "metadata": {
      "needs_background": "light"
     },
     "output_type": "display_data"
    }
   ],
   "source": [
    "model = SVC(random_state=42)    \n",
    "clr_rf = model.fit(x_train,y_train)\n",
    "\n",
    "ac = accuracy_score(y_test,model.predict(x_test))\n",
    "print('Accuracy is: ',ac)\n",
    "print(\"precision_score\",precision_score(y_test,model.predict(x_test), average='macro') )\n",
    "print(\"recall_score\",recall_score(y_test,model.predict(x_test), average='macro')) \n",
    "print(\"f1_score\",f1_score(y_test,model.predict(x_test), average='macro')) \n",
    "# cm = confusion_matrix(y_test,model.predict(x_test))\n",
    "# sns.heatmap(cm,annot=True,fmt=\"d\")\n",
    "y_label =  ['A','B','C','D','E','F','G']\n",
    "print(classification_report(y_test, model.predict(x_test), target_names=y_label))\n",
    "\n",
    "from sklearn.metrics import plot_confusion_matrix\n",
    "plot = plot_confusion_matrix(model, # 분류 모델\n",
    "                             x_test, y_test, # 예측 데이터와 예측값의 정답(y_true)\n",
    "                             cmap=plt.cm.Blues, # 컬러맵(plt.cm.Reds, plt.cm.rainbow 등이 있음)\n",
    "                             display_labels=y_label, # 표에 표시할 labels\n",
    "                             normalize=None) # 'true', 'pred', 'all' 중에서 지정 가능. default=None\n",
    "\n",
    "plot.ax_.set_title('SVM')"
   ]
  },
  {
   "cell_type": "code",
   "execution_count": null,
   "metadata": {},
   "outputs": [],
   "source": []
  }
 ],
 "metadata": {
  "kernelspec": {
   "display_name": "Python 3.7.9 64-bit",
   "language": "python",
   "name": "python3"
  },
  "language_info": {
   "codemirror_mode": {
    "name": "ipython",
    "version": 3
   },
   "file_extension": ".py",
   "mimetype": "text/x-python",
   "name": "python",
   "nbconvert_exporter": "python",
   "pygments_lexer": "ipython3",
   "version": "3.7.9"
  },
  "orig_nbformat": 4,
  "vscode": {
   "interpreter": {
    "hash": "82d4c6f819cf47785f735f902f00da8643513d08dab4f4c7470bccf934b8d2d6"
   }
  }
 },
 "nbformat": 4,
 "nbformat_minor": 2
}
